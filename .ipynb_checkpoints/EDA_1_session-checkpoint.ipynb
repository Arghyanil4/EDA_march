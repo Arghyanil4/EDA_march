{
 "cells": [
  {
   "cell_type": "code",
   "execution_count": 1,
   "id": "a597c7d0-3c2a-4915-8a8b-5b55779800d9",
   "metadata": {},
   "outputs": [
    {
     "data": {
      "text/plain": [
       "80"
      ]
     },
     "execution_count": 1,
     "metadata": {},
     "output_type": "execute_result"
    }
   ],
   "source": [
    "a=20\n",
    "b=30\n",
    "c=30\n",
    "a+b+c"
   ]
  },
  {
   "cell_type": "markdown",
   "id": "d471686c-d414-4cb0-aa0d-0b28aa1af239",
   "metadata": {},
   "source": [
    "================== EDA ==========================\n",
    "1) Pandas : Data frame applications\n",
    "\n",
    "2) Numpy  : Numerical python All math applications\n",
    "\n",
    "3) Matplotlib: used for plotting\n",
    "\n",
    "4) Seaborn   : used for plot\n",
    "\n",
    "5) plotly    : use for plot\n",
    "\n",
    "6) Bokhe     : plot\n",
    "\n",
    "=================== Machine learning ==================\n",
    "7) Sickit-learn: sklearn\n",
    "\n",
    "===================== Deep Learning ==================\n",
    "8) Tensorflow : Google\n",
    "\n",
    "9) Keras      : Google\n",
    "\n",
    "10) Pytorch   : FaceBook\n",
    "\n",
    "====================== NLP ===========================\n",
    "11) NLTK    : Natural langague tool kit \n",
    "\n",
    "12) Scipy\n",
    "\n",
    "================ BERT =============================\n",
    "13) Transformers : Hugging face (Google)\n",
    "\n",
    "============ Google models =======================\n",
    "14) Specific google packages\n",
    "\n",
    "============== Azure ML=========================\n",
    "15) Azure packages\n",
    "\n",
    "============= GenAI ==============================\n",
    "16) Gemini : Google\n",
    "\n",
    "17) ChatGPT : OpenAI\n",
    "\n",
    "====================== LangChain==================\n",
    "18) LangChain packages\n"
   ]
  },
  {
   "cell_type": "markdown",
   "id": "57d11509-d780-4103-a347-35f8db2cd453",
   "metadata": {},
   "source": [
    "**Create a dataframe using list**"
   ]
  },
  {
   "cell_type": "markdown",
   "id": "42e9eebf-572a-470d-a56a-0ee442391d19",
   "metadata": {},
   "source": [
    "**Step 1- Create a Dataframe**"
   ]
  },
  {
   "cell_type": "code",
   "execution_count": 1,
   "id": "802ad3e4-eee4-4f47-8bf6-42d7e96d62ef",
   "metadata": {},
   "outputs": [
    {
     "data": {
      "text/html": [
       "<div>\n",
       "<style scoped>\n",
       "    .dataframe tbody tr th:only-of-type {\n",
       "        vertical-align: middle;\n",
       "    }\n",
       "\n",
       "    .dataframe tbody tr th {\n",
       "        vertical-align: top;\n",
       "    }\n",
       "\n",
       "    .dataframe thead th {\n",
       "        text-align: right;\n",
       "    }\n",
       "</style>\n",
       "<table border=\"1\" class=\"dataframe\">\n",
       "  <thead>\n",
       "    <tr style=\"text-align: right;\">\n",
       "      <th></th>\n",
       "    </tr>\n",
       "  </thead>\n",
       "  <tbody>\n",
       "  </tbody>\n",
       "</table>\n",
       "</div>"
      ],
      "text/plain": [
       "Empty DataFrame\n",
       "Columns: []\n",
       "Index: []"
      ]
     },
     "execution_count": 1,
     "metadata": {},
     "output_type": "execute_result"
    }
   ],
   "source": [
    "import pandas as pd #Alias name\n",
    "\n",
    "pd.DataFrame()# empty data frame created no rows & no columns"
   ]
  },
  {
   "cell_type": "markdown",
   "id": "0e376019-eadd-4b15-9084-0b5cfa2bf548",
   "metadata": {},
   "source": [
    "**Step2- Provide the data**"
   ]
  },
  {
   "cell_type": "code",
   "execution_count": 11,
   "id": "c77651fb-28f0-4340-b369-1b2af7b5ada6",
   "metadata": {},
   "outputs": [
    {
     "data": {
      "text/html": [
       "<div>\n",
       "<style scoped>\n",
       "    .dataframe tbody tr th:only-of-type {\n",
       "        vertical-align: middle;\n",
       "    }\n",
       "\n",
       "    .dataframe tbody tr th {\n",
       "        vertical-align: top;\n",
       "    }\n",
       "\n",
       "    .dataframe thead th {\n",
       "        text-align: right;\n",
       "    }\n",
       "</style>\n",
       "<table border=\"1\" class=\"dataframe\">\n",
       "  <thead>\n",
       "    <tr style=\"text-align: right;\">\n",
       "      <th></th>\n",
       "      <th>0</th>\n",
       "      <th>1</th>\n",
       "      <th>2</th>\n",
       "    </tr>\n",
       "  </thead>\n",
       "  <tbody>\n",
       "    <tr>\n",
       "      <th>Arghyanil</th>\n",
       "      <td>27</td>\n",
       "      <td>Biryani</td>\n",
       "      <td>Hyd</td>\n",
       "    </tr>\n",
       "    <tr>\n",
       "      <th>Sangeeta</th>\n",
       "      <td>28</td>\n",
       "      <td>Pizza</td>\n",
       "      <td>Jrd</td>\n",
       "    </tr>\n",
       "    <tr>\n",
       "      <th>Rohit</th>\n",
       "      <td>26</td>\n",
       "      <td>Panipuri</td>\n",
       "      <td>Ghy</td>\n",
       "    </tr>\n",
       "  </tbody>\n",
       "</table>\n",
       "</div>"
      ],
      "text/plain": [
       "            0         1    2\n",
       "Arghyanil  27   Biryani  Hyd\n",
       "Sangeeta   28     Pizza  Jrd\n",
       "Rohit      26  Panipuri  Ghy"
      ]
     },
     "execution_count": 11,
     "metadata": {},
     "output_type": "execute_result"
    }
   ],
   "source": [
    "names=['Arghyanil','Sangeeta','Rohit']\n",
    "age=[27,28,26]\n",
    "food=['Biryani','Pizza','Panipuri']\n",
    "city=['Hyd','Jrd','Ghy']\n",
    "pd.DataFrame(zip(age,food,city),names)\n",
    "# what is the first positional argument: data\n",
    "# second positional argument: index"
   ]
  },
  {
   "cell_type": "markdown",
   "id": "c27df7e4-47c7-4df4-b02e-0dcfa3ab96ff",
   "metadata": {},
   "source": [
    "**Step3- Provide the column names**"
   ]
  },
  {
   "cell_type": "code",
   "execution_count": 15,
   "id": "d867e5e5-bf3f-4e0c-9696-6f2926eb5672",
   "metadata": {},
   "outputs": [
    {
     "data": {
      "text/html": [
       "<div>\n",
       "<style scoped>\n",
       "    .dataframe tbody tr th:only-of-type {\n",
       "        vertical-align: middle;\n",
       "    }\n",
       "\n",
       "    .dataframe tbody tr th {\n",
       "        vertical-align: top;\n",
       "    }\n",
       "\n",
       "    .dataframe thead th {\n",
       "        text-align: right;\n",
       "    }\n",
       "</style>\n",
       "<table border=\"1\" class=\"dataframe\">\n",
       "  <thead>\n",
       "    <tr style=\"text-align: right;\">\n",
       "      <th></th>\n",
       "      <th>Age</th>\n",
       "      <th>Food</th>\n",
       "      <th>City</th>\n",
       "    </tr>\n",
       "  </thead>\n",
       "  <tbody>\n",
       "    <tr>\n",
       "      <th>Arghyanil</th>\n",
       "      <td>27</td>\n",
       "      <td>Biryani</td>\n",
       "      <td>Hyd</td>\n",
       "    </tr>\n",
       "    <tr>\n",
       "      <th>Sangeeta</th>\n",
       "      <td>28</td>\n",
       "      <td>Pizza</td>\n",
       "      <td>Jrd</td>\n",
       "    </tr>\n",
       "    <tr>\n",
       "      <th>Rohit</th>\n",
       "      <td>26</td>\n",
       "      <td>Panipuri</td>\n",
       "      <td>Ghy</td>\n",
       "    </tr>\n",
       "  </tbody>\n",
       "</table>\n",
       "</div>"
      ],
      "text/plain": [
       "           Age      Food City\n",
       "Arghyanil   27   Biryani  Hyd\n",
       "Sangeeta    28     Pizza  Jrd\n",
       "Rohit       26  Panipuri  Ghy"
      ]
     },
     "execution_count": 15,
     "metadata": {},
     "output_type": "execute_result"
    }
   ],
   "source": [
    "names=['Arghyanil','Sangeeta','Rohit']\n",
    "age=[27,28,26]\n",
    "food=['Biryani','Pizza','Panipuri']\n",
    "city=['Hyd','Jrd','Ghy']\n",
    "cols=['Age','Food','City']\n",
    "df=pd.DataFrame(zip(age,food,city),names,cols)\n",
    "df"
   ]
  },
  {
   "cell_type": "code",
   "execution_count": 16,
   "id": "863bd2e4-7db3-45b5-a13d-d4abf3c9ab28",
   "metadata": {},
   "outputs": [
    {
     "data": {
      "text/plain": [
       "pandas.core.frame.DataFrame"
      ]
     },
     "execution_count": 16,
     "metadata": {},
     "output_type": "execute_result"
    }
   ],
   "source": [
    "type(df)"
   ]
  },
  {
   "cell_type": "markdown",
   "id": "958be57f-5bd5-4aa5-af2a-736ee8867ba0",
   "metadata": {},
   "source": [
    "$Step-4$\n",
    "\n",
    "**Add new column**"
   ]
  },
  {
   "cell_type": "markdown",
   "id": "4a077055-c12d-4b00-a26f-8d73f71ba943",
   "metadata": {},
   "source": [
    "- If you want to add new column\n",
    "- First you need to check the number of rows in already existing data\n",
    "- For e.g in above the dataframe has 4 rows\n",
    "- You need to create a new list with 4 rows\n",
    "- That list equate to the data frame"
   ]
  },
  {
   "cell_type": "code",
   "execution_count": 20,
   "id": "a14adf24-963c-4ae9-856f-706edad3207b",
   "metadata": {},
   "outputs": [
    {
     "data": {
      "text/html": [
       "<div>\n",
       "<style scoped>\n",
       "    .dataframe tbody tr th:only-of-type {\n",
       "        vertical-align: middle;\n",
       "    }\n",
       "\n",
       "    .dataframe tbody tr th {\n",
       "        vertical-align: top;\n",
       "    }\n",
       "\n",
       "    .dataframe thead th {\n",
       "        text-align: right;\n",
       "    }\n",
       "</style>\n",
       "<table border=\"1\" class=\"dataframe\">\n",
       "  <thead>\n",
       "    <tr style=\"text-align: right;\">\n",
       "      <th></th>\n",
       "      <th>Age</th>\n",
       "      <th>Food</th>\n",
       "      <th>City</th>\n",
       "      <th>Job</th>\n",
       "      <th>Salary</th>\n",
       "    </tr>\n",
       "  </thead>\n",
       "  <tbody>\n",
       "    <tr>\n",
       "      <th>Arghyanil</th>\n",
       "      <td>27</td>\n",
       "      <td>Biryani</td>\n",
       "      <td>Hyd</td>\n",
       "      <td>DS</td>\n",
       "      <td>150000</td>\n",
       "    </tr>\n",
       "    <tr>\n",
       "      <th>Sangeeta</th>\n",
       "      <td>28</td>\n",
       "      <td>Pizza</td>\n",
       "      <td>Jrd</td>\n",
       "      <td>Teacher</td>\n",
       "      <td>100000</td>\n",
       "    </tr>\n",
       "    <tr>\n",
       "      <th>Rohit</th>\n",
       "      <td>26</td>\n",
       "      <td>Panipuri</td>\n",
       "      <td>Ghy</td>\n",
       "      <td>Engineer</td>\n",
       "      <td>100001</td>\n",
       "    </tr>\n",
       "  </tbody>\n",
       "</table>\n",
       "</div>"
      ],
      "text/plain": [
       "           Age      Food City       Job  Salary\n",
       "Arghyanil   27   Biryani  Hyd        DS  150000\n",
       "Sangeeta    28     Pizza  Jrd   Teacher  100000\n",
       "Rohit       26  Panipuri  Ghy  Engineer  100001"
      ]
     },
     "execution_count": 20,
     "metadata": {},
     "output_type": "execute_result"
    }
   ],
   "source": [
    "job=['DS','Teacher','Engineer']\n",
    "Salary=[150000,100000,100001]\n",
    "df['Job']=job\n",
    "df['Salary']=Salary\n",
    "df"
   ]
  },
  {
   "cell_type": "markdown",
   "id": "b55ebc65-e2e0-4e8a-a961-ceceb7c2ae18",
   "metadata": {},
   "source": [
    "$Step-5$\n",
    "\n",
    "**Updating the existing column**\n",
    "\n",
    "**Create & Update new column both are same way**"
   ]
  },
  {
   "cell_type": "code",
   "execution_count": 21,
   "id": "ef91813e-1998-4346-8480-9e76ca3f018a",
   "metadata": {},
   "outputs": [
    {
     "data": {
      "text/html": [
       "<div>\n",
       "<style scoped>\n",
       "    .dataframe tbody tr th:only-of-type {\n",
       "        vertical-align: middle;\n",
       "    }\n",
       "\n",
       "    .dataframe tbody tr th {\n",
       "        vertical-align: top;\n",
       "    }\n",
       "\n",
       "    .dataframe thead th {\n",
       "        text-align: right;\n",
       "    }\n",
       "</style>\n",
       "<table border=\"1\" class=\"dataframe\">\n",
       "  <thead>\n",
       "    <tr style=\"text-align: right;\">\n",
       "      <th></th>\n",
       "      <th>Age</th>\n",
       "      <th>Food</th>\n",
       "      <th>City</th>\n",
       "      <th>Job</th>\n",
       "      <th>Salary</th>\n",
       "    </tr>\n",
       "  </thead>\n",
       "  <tbody>\n",
       "    <tr>\n",
       "      <th>Arghyanil</th>\n",
       "      <td>30</td>\n",
       "      <td>Biryani</td>\n",
       "      <td>Hyd</td>\n",
       "      <td>DS</td>\n",
       "      <td>150000</td>\n",
       "    </tr>\n",
       "    <tr>\n",
       "      <th>Sangeeta</th>\n",
       "      <td>31</td>\n",
       "      <td>Pizza</td>\n",
       "      <td>Jrd</td>\n",
       "      <td>Teacher</td>\n",
       "      <td>100000</td>\n",
       "    </tr>\n",
       "    <tr>\n",
       "      <th>Rohit</th>\n",
       "      <td>29</td>\n",
       "      <td>Panipuri</td>\n",
       "      <td>Ghy</td>\n",
       "      <td>Engineer</td>\n",
       "      <td>100001</td>\n",
       "    </tr>\n",
       "  </tbody>\n",
       "</table>\n",
       "</div>"
      ],
      "text/plain": [
       "           Age      Food City       Job  Salary\n",
       "Arghyanil   30   Biryani  Hyd        DS  150000\n",
       "Sangeeta    31     Pizza  Jrd   Teacher  100000\n",
       "Rohit       29  Panipuri  Ghy  Engineer  100001"
      ]
     },
     "execution_count": 21,
     "metadata": {},
     "output_type": "execute_result"
    }
   ],
   "source": [
    "df['Age']=[30,31,29]\n",
    "df"
   ]
  },
  {
   "cell_type": "markdown",
   "id": "19ea2508-d032-45db-8223-52542b4df779",
   "metadata": {},
   "source": [
    "$Step-6$\n",
    "\n",
    "**Changing the index**\n",
    "\n"
   ]
  },
  {
   "cell_type": "code",
   "execution_count": 44,
   "id": "a5179857-f122-4042-955e-ceef205d58d5",
   "metadata": {},
   "outputs": [
    {
     "name": "stdout",
     "output_type": "stream",
     "text": [
      "       Names  Age      Food City       Job  Salary\n",
      "A  Arghyanil   27   Biryani  Hyd        DS  150000\n",
      "B   Sangeeta   28     Pizza  Jrd   Teacher  100000\n",
      "C      Rohit   26  Panipuri  Ghy  Engineer  100001\n"
     ]
    }
   ],
   "source": [
    "import pandas as pd\n",
    "\n",
    "names=['Arghyanil','Sangeeta','Rohit']\n",
    "age=[27,28,26]\n",
    "food=['Biryani','Pizza','Panipuri']\n",
    "city=['Hyd','Jrd','Ghy']\n",
    "job=['DS','Teacher','Engineer']\n",
    "Salary=[150000,100000,100001]\n",
    "idx=['A','B','C']\n",
    "\n",
    "columns=['Names','Age','Food','City','Job','Salary']\n",
    "# Combine the lists into a list of tuples\n",
    "data = zip(names, age, food, city, job, Salary)\n",
    "\n",
    "# Create the DataFrame with column names\n",
    "df = pd.DataFrame(data,idx,columns )\n",
    "\n",
    "print(df)"
   ]
  },
  {
   "cell_type": "markdown",
   "id": "f3253498-f08b-4806-82e2-98db5a70ef62",
   "metadata": {},
   "source": [
    "**Note**\n",
    "\n",
    "- Number of list equals to **Number of columns**\n",
    "\n",
    "- Number of values inside list equals to **Number of rows**\n",
    "\n",
    "- When you create the data all the lists will be in same length"
   ]
  },
  {
   "cell_type": "markdown",
   "id": "f9897cab-65c3-445a-81b4-5f026c6074f7",
   "metadata": {},
   "source": [
    "$Step-7$\n",
    "\n",
    "**shape**\n",
    "\n",
    "- Number of rows \n",
    "\n",
    "- Number of columns"
   ]
  },
  {
   "cell_type": "code",
   "execution_count": 66,
   "id": "9ecde2e5-88ae-4b4f-a47a-9443ccd8ebdc",
   "metadata": {},
   "outputs": [
    {
     "name": "stdout",
     "output_type": "stream",
     "text": [
      "the number of rows are: 3\n",
      "the number of columns are: 6\n"
     ]
    }
   ],
   "source": [
    "df.shape\n",
    "# Matrix format\n",
    "# 4 rows and 3 columns\n",
    "print(\"the number of rows are:\",df.shape[0])\n",
    "print(\"the number of columns are:\",df.shape[1])"
   ]
  },
  {
   "cell_type": "markdown",
   "id": "9bd51177-ecdb-4ae4-bf8a-5f415c879422",
   "metadata": {},
   "source": [
    "$Step-8$\n",
    "\n",
    "**Drop the column**\n",
    "\n",
    "- In order to drop column we required 3 arguments\n",
    "\n",
    "- Column name\n",
    "\n",
    "    - The coulmn name we need to mention\n",
    "\n",
    "- axis\n",
    "\n",
    "   -  axis=0 **represents rows**\n",
    "\n",
    "   -  axis=1 **represnts columns**\n",
    "\n",
    "- inplace\n",
    "\n",
    "   - we are drop column means we are modifying the data frame\n",
    "\n",
    "   - so this modifications we want to save in same variable or different variable\n",
    "\n",
    "   - If you want to keep in the same varaible the **inplace=True**"
   ]
  },
  {
   "cell_type": "code",
   "execution_count": null,
   "id": "a9639942-67f9-42d3-a408-2be14c80eca8",
   "metadata": {},
   "outputs": [],
   "source": [
    "df1=df.drop('Food',axis=1)  # do not give inplace=True"
   ]
  },
  {
   "cell_type": "code",
   "execution_count": 42,
   "id": "4836b60f-f211-4e40-bfb4-4fbd8b0d8c04",
   "metadata": {},
   "outputs": [
    {
     "data": {
      "text/html": [
       "<div>\n",
       "<style scoped>\n",
       "    .dataframe tbody tr th:only-of-type {\n",
       "        vertical-align: middle;\n",
       "    }\n",
       "\n",
       "    .dataframe tbody tr th {\n",
       "        vertical-align: top;\n",
       "    }\n",
       "\n",
       "    .dataframe thead th {\n",
       "        text-align: right;\n",
       "    }\n",
       "</style>\n",
       "<table border=\"1\" class=\"dataframe\">\n",
       "  <thead>\n",
       "    <tr style=\"text-align: right;\">\n",
       "      <th></th>\n",
       "      <th>Names</th>\n",
       "      <th>Age</th>\n",
       "      <th>City</th>\n",
       "      <th>Job</th>\n",
       "      <th>Salary</th>\n",
       "    </tr>\n",
       "  </thead>\n",
       "  <tbody>\n",
       "    <tr>\n",
       "      <th>A</th>\n",
       "      <td>Arghyanil</td>\n",
       "      <td>27</td>\n",
       "      <td>Hyd</td>\n",
       "      <td>DS</td>\n",
       "      <td>150000</td>\n",
       "    </tr>\n",
       "    <tr>\n",
       "      <th>B</th>\n",
       "      <td>Sangeeta</td>\n",
       "      <td>28</td>\n",
       "      <td>Jrd</td>\n",
       "      <td>Teacher</td>\n",
       "      <td>100000</td>\n",
       "    </tr>\n",
       "    <tr>\n",
       "      <th>C</th>\n",
       "      <td>Rohit</td>\n",
       "      <td>26</td>\n",
       "      <td>Ghy</td>\n",
       "      <td>Engineer</td>\n",
       "      <td>100001</td>\n",
       "    </tr>\n",
       "  </tbody>\n",
       "</table>\n",
       "</div>"
      ],
      "text/plain": [
       "       Names  Age City       Job  Salary\n",
       "A  Arghyanil   27  Hyd        DS  150000\n",
       "B   Sangeeta   28  Jrd   Teacher  100000\n",
       "C      Rohit   26  Ghy  Engineer  100001"
      ]
     },
     "execution_count": 42,
     "metadata": {},
     "output_type": "execute_result"
    }
   ],
   "source": [
    "df.drop('Food',axis=1,inplace=True)\n",
    "df"
   ]
  },
  {
   "cell_type": "markdown",
   "id": "6f1ef7b1-9373-464a-983b-0558cfa2dcd9",
   "metadata": {},
   "source": [
    "$Step-9$\n",
    "\n",
    "**Multiple columns Drop**\n"
   ]
  },
  {
   "cell_type": "code",
   "execution_count": 45,
   "id": "f540b952-5266-4bd6-877b-2dc4d5e5ebd8",
   "metadata": {},
   "outputs": [
    {
     "data": {
      "text/html": [
       "<div>\n",
       "<style scoped>\n",
       "    .dataframe tbody tr th:only-of-type {\n",
       "        vertical-align: middle;\n",
       "    }\n",
       "\n",
       "    .dataframe tbody tr th {\n",
       "        vertical-align: top;\n",
       "    }\n",
       "\n",
       "    .dataframe thead th {\n",
       "        text-align: right;\n",
       "    }\n",
       "</style>\n",
       "<table border=\"1\" class=\"dataframe\">\n",
       "  <thead>\n",
       "    <tr style=\"text-align: right;\">\n",
       "      <th></th>\n",
       "      <th>Names</th>\n",
       "      <th>City</th>\n",
       "      <th>Job</th>\n",
       "      <th>Salary</th>\n",
       "    </tr>\n",
       "  </thead>\n",
       "  <tbody>\n",
       "    <tr>\n",
       "      <th>A</th>\n",
       "      <td>Arghyanil</td>\n",
       "      <td>Hyd</td>\n",
       "      <td>DS</td>\n",
       "      <td>150000</td>\n",
       "    </tr>\n",
       "    <tr>\n",
       "      <th>B</th>\n",
       "      <td>Sangeeta</td>\n",
       "      <td>Jrd</td>\n",
       "      <td>Teacher</td>\n",
       "      <td>100000</td>\n",
       "    </tr>\n",
       "    <tr>\n",
       "      <th>C</th>\n",
       "      <td>Rohit</td>\n",
       "      <td>Ghy</td>\n",
       "      <td>Engineer</td>\n",
       "      <td>100001</td>\n",
       "    </tr>\n",
       "  </tbody>\n",
       "</table>\n",
       "</div>"
      ],
      "text/plain": [
       "       Names City       Job  Salary\n",
       "A  Arghyanil  Hyd        DS  150000\n",
       "B   Sangeeta  Jrd   Teacher  100000\n",
       "C      Rohit  Ghy  Engineer  100001"
      ]
     },
     "execution_count": 45,
     "metadata": {},
     "output_type": "execute_result"
    }
   ],
   "source": [
    "df.drop(['Age','Food'],axis=1,inplace=True)\n",
    "df"
   ]
  },
  {
   "cell_type": "markdown",
   "id": "0fdc3653-5c1a-4e4f-ba3a-8fa9631e34d4",
   "metadata": {},
   "source": [
    "$Step-10$\n",
    "\n",
    "**Drop rows**\n"
   ]
  },
  {
   "cell_type": "code",
   "execution_count": 62,
   "id": "e27225e4-f1fe-43dd-9319-2266bdffe4b9",
   "metadata": {},
   "outputs": [
    {
     "name": "stdout",
     "output_type": "stream",
     "text": [
      "       Names  Age      Food City       Job  Salary\n",
      "A  Arghyanil   27   Biryani  Hyd        DS  150000\n",
      "B   Sangeeta   28     Pizza  Jrd   Teacher  100000\n",
      "C      Rohit   26  Panipuri  Ghy  Engineer  100001\n"
     ]
    }
   ],
   "source": [
    "import pandas as pd\n",
    "\n",
    "names=['Arghyanil','Sangeeta','Rohit']\n",
    "age=[27,28,26]\n",
    "food=['Biryani','Pizza','Panipuri']\n",
    "city=['Hyd','Jrd','Ghy']\n",
    "job=['DS','Teacher','Engineer']\n",
    "Salary=[150000,100000,100001]\n",
    "idx=['A','B','C']\n",
    "\n",
    "columns=['Names','Age','Food','City','Job','Salary']\n",
    "# Combine the lists into a list of tuples\n",
    "data = zip(names, age, food, city, job, Salary)\n",
    "\n",
    "# Create the DataFrame with column names\n",
    "df = pd.DataFrame(data,idx,columns)\n",
    "\n",
    "print(df)"
   ]
  },
  {
   "cell_type": "code",
   "execution_count": 49,
   "id": "3f11f490-afab-4e12-9f59-2a1b7c30e0ed",
   "metadata": {},
   "outputs": [
    {
     "ename": "KeyError",
     "evalue": "\"['City'] not found in axis\"",
     "output_type": "error",
     "traceback": [
      "\u001b[1;31m---------------------------------------------------------------------------\u001b[0m",
      "\u001b[1;31mKeyError\u001b[0m                                  Traceback (most recent call last)",
      "Cell \u001b[1;32mIn[49], line 1\u001b[0m\n\u001b[1;32m----> 1\u001b[0m df\u001b[38;5;241m.\u001b[39mdrop(\u001b[38;5;124m'\u001b[39m\u001b[38;5;124mCity\u001b[39m\u001b[38;5;124m'\u001b[39m,axis\u001b[38;5;241m=\u001b[39m\u001b[38;5;241m0\u001b[39m,inplace\u001b[38;5;241m=\u001b[39m\u001b[38;5;28;01mTrue\u001b[39;00m)\n",
      "File \u001b[1;32m~\\anaconda3\\Lib\\site-packages\\pandas\\core\\frame.py:5344\u001b[0m, in \u001b[0;36mDataFrame.drop\u001b[1;34m(self, labels, axis, index, columns, level, inplace, errors)\u001b[0m\n\u001b[0;32m   5196\u001b[0m \u001b[38;5;28;01mdef\u001b[39;00m \u001b[38;5;21mdrop\u001b[39m(\n\u001b[0;32m   5197\u001b[0m     \u001b[38;5;28mself\u001b[39m,\n\u001b[0;32m   5198\u001b[0m     labels: IndexLabel \u001b[38;5;241m|\u001b[39m \u001b[38;5;28;01mNone\u001b[39;00m \u001b[38;5;241m=\u001b[39m \u001b[38;5;28;01mNone\u001b[39;00m,\n\u001b[1;32m   (...)\u001b[0m\n\u001b[0;32m   5205\u001b[0m     errors: IgnoreRaise \u001b[38;5;241m=\u001b[39m \u001b[38;5;124m\"\u001b[39m\u001b[38;5;124mraise\u001b[39m\u001b[38;5;124m\"\u001b[39m,\n\u001b[0;32m   5206\u001b[0m ) \u001b[38;5;241m-\u001b[39m\u001b[38;5;241m>\u001b[39m DataFrame \u001b[38;5;241m|\u001b[39m \u001b[38;5;28;01mNone\u001b[39;00m:\n\u001b[0;32m   5207\u001b[0m \u001b[38;5;250m    \u001b[39m\u001b[38;5;124;03m\"\"\"\u001b[39;00m\n\u001b[0;32m   5208\u001b[0m \u001b[38;5;124;03m    Drop specified labels from rows or columns.\u001b[39;00m\n\u001b[0;32m   5209\u001b[0m \n\u001b[1;32m   (...)\u001b[0m\n\u001b[0;32m   5342\u001b[0m \u001b[38;5;124;03m            weight  1.0     0.8\u001b[39;00m\n\u001b[0;32m   5343\u001b[0m \u001b[38;5;124;03m    \"\"\"\u001b[39;00m\n\u001b[1;32m-> 5344\u001b[0m     \u001b[38;5;28;01mreturn\u001b[39;00m \u001b[38;5;28msuper\u001b[39m()\u001b[38;5;241m.\u001b[39mdrop(\n\u001b[0;32m   5345\u001b[0m         labels\u001b[38;5;241m=\u001b[39mlabels,\n\u001b[0;32m   5346\u001b[0m         axis\u001b[38;5;241m=\u001b[39maxis,\n\u001b[0;32m   5347\u001b[0m         index\u001b[38;5;241m=\u001b[39mindex,\n\u001b[0;32m   5348\u001b[0m         columns\u001b[38;5;241m=\u001b[39mcolumns,\n\u001b[0;32m   5349\u001b[0m         level\u001b[38;5;241m=\u001b[39mlevel,\n\u001b[0;32m   5350\u001b[0m         inplace\u001b[38;5;241m=\u001b[39minplace,\n\u001b[0;32m   5351\u001b[0m         errors\u001b[38;5;241m=\u001b[39merrors,\n\u001b[0;32m   5352\u001b[0m     )\n",
      "File \u001b[1;32m~\\anaconda3\\Lib\\site-packages\\pandas\\core\\generic.py:4711\u001b[0m, in \u001b[0;36mNDFrame.drop\u001b[1;34m(self, labels, axis, index, columns, level, inplace, errors)\u001b[0m\n\u001b[0;32m   4709\u001b[0m \u001b[38;5;28;01mfor\u001b[39;00m axis, labels \u001b[38;5;129;01min\u001b[39;00m axes\u001b[38;5;241m.\u001b[39mitems():\n\u001b[0;32m   4710\u001b[0m     \u001b[38;5;28;01mif\u001b[39;00m labels \u001b[38;5;129;01mis\u001b[39;00m \u001b[38;5;129;01mnot\u001b[39;00m \u001b[38;5;28;01mNone\u001b[39;00m:\n\u001b[1;32m-> 4711\u001b[0m         obj \u001b[38;5;241m=\u001b[39m obj\u001b[38;5;241m.\u001b[39m_drop_axis(labels, axis, level\u001b[38;5;241m=\u001b[39mlevel, errors\u001b[38;5;241m=\u001b[39merrors)\n\u001b[0;32m   4713\u001b[0m \u001b[38;5;28;01mif\u001b[39;00m inplace:\n\u001b[0;32m   4714\u001b[0m     \u001b[38;5;28mself\u001b[39m\u001b[38;5;241m.\u001b[39m_update_inplace(obj)\n",
      "File \u001b[1;32m~\\anaconda3\\Lib\\site-packages\\pandas\\core\\generic.py:4753\u001b[0m, in \u001b[0;36mNDFrame._drop_axis\u001b[1;34m(self, labels, axis, level, errors, only_slice)\u001b[0m\n\u001b[0;32m   4751\u001b[0m         new_axis \u001b[38;5;241m=\u001b[39m axis\u001b[38;5;241m.\u001b[39mdrop(labels, level\u001b[38;5;241m=\u001b[39mlevel, errors\u001b[38;5;241m=\u001b[39merrors)\n\u001b[0;32m   4752\u001b[0m     \u001b[38;5;28;01melse\u001b[39;00m:\n\u001b[1;32m-> 4753\u001b[0m         new_axis \u001b[38;5;241m=\u001b[39m axis\u001b[38;5;241m.\u001b[39mdrop(labels, errors\u001b[38;5;241m=\u001b[39merrors)\n\u001b[0;32m   4754\u001b[0m     indexer \u001b[38;5;241m=\u001b[39m axis\u001b[38;5;241m.\u001b[39mget_indexer(new_axis)\n\u001b[0;32m   4756\u001b[0m \u001b[38;5;66;03m# Case for non-unique axis\u001b[39;00m\n\u001b[0;32m   4757\u001b[0m \u001b[38;5;28;01melse\u001b[39;00m:\n",
      "File \u001b[1;32m~\\anaconda3\\Lib\\site-packages\\pandas\\core\\indexes\\base.py:7000\u001b[0m, in \u001b[0;36mIndex.drop\u001b[1;34m(self, labels, errors)\u001b[0m\n\u001b[0;32m   6998\u001b[0m \u001b[38;5;28;01mif\u001b[39;00m mask\u001b[38;5;241m.\u001b[39many():\n\u001b[0;32m   6999\u001b[0m     \u001b[38;5;28;01mif\u001b[39;00m errors \u001b[38;5;241m!=\u001b[39m \u001b[38;5;124m\"\u001b[39m\u001b[38;5;124mignore\u001b[39m\u001b[38;5;124m\"\u001b[39m:\n\u001b[1;32m-> 7000\u001b[0m         \u001b[38;5;28;01mraise\u001b[39;00m \u001b[38;5;167;01mKeyError\u001b[39;00m(\u001b[38;5;124mf\u001b[39m\u001b[38;5;124m\"\u001b[39m\u001b[38;5;132;01m{\u001b[39;00mlabels[mask]\u001b[38;5;241m.\u001b[39mtolist()\u001b[38;5;132;01m}\u001b[39;00m\u001b[38;5;124m not found in axis\u001b[39m\u001b[38;5;124m\"\u001b[39m)\n\u001b[0;32m   7001\u001b[0m     indexer \u001b[38;5;241m=\u001b[39m indexer[\u001b[38;5;241m~\u001b[39mmask]\n\u001b[0;32m   7002\u001b[0m \u001b[38;5;28;01mreturn\u001b[39;00m \u001b[38;5;28mself\u001b[39m\u001b[38;5;241m.\u001b[39mdelete(indexer)\n",
      "\u001b[1;31mKeyError\u001b[0m: \"['City'] not found in axis\""
     ]
    }
   ],
   "source": [
    "df.drop('City',axis=0,inplace=True)"
   ]
  },
  {
   "cell_type": "code",
   "execution_count": 61,
   "id": "bfe9a3e7-997d-4ac5-82d5-a5ec51d3e52c",
   "metadata": {},
   "outputs": [
    {
     "data": {
      "text/html": [
       "<div>\n",
       "<style scoped>\n",
       "    .dataframe tbody tr th:only-of-type {\n",
       "        vertical-align: middle;\n",
       "    }\n",
       "\n",
       "    .dataframe tbody tr th {\n",
       "        vertical-align: top;\n",
       "    }\n",
       "\n",
       "    .dataframe thead th {\n",
       "        text-align: right;\n",
       "    }\n",
       "</style>\n",
       "<table border=\"1\" class=\"dataframe\">\n",
       "  <thead>\n",
       "    <tr style=\"text-align: right;\">\n",
       "      <th></th>\n",
       "      <th>Names</th>\n",
       "      <th>Age</th>\n",
       "      <th>Food</th>\n",
       "      <th>City</th>\n",
       "      <th>Job</th>\n",
       "      <th>Salary</th>\n",
       "    </tr>\n",
       "  </thead>\n",
       "  <tbody>\n",
       "    <tr>\n",
       "      <th>A</th>\n",
       "      <td>Arghyanil</td>\n",
       "      <td>27</td>\n",
       "      <td>Biryani</td>\n",
       "      <td>Hyd</td>\n",
       "      <td>DS</td>\n",
       "      <td>150000</td>\n",
       "    </tr>\n",
       "    <tr>\n",
       "      <th>B</th>\n",
       "      <td>Sangeeta</td>\n",
       "      <td>28</td>\n",
       "      <td>Pizza</td>\n",
       "      <td>Jrd</td>\n",
       "      <td>Teacher</td>\n",
       "      <td>100000</td>\n",
       "    </tr>\n",
       "  </tbody>\n",
       "</table>\n",
       "</div>"
      ],
      "text/plain": [
       "       Names  Age     Food City      Job  Salary\n",
       "A  Arghyanil   27  Biryani  Hyd       DS  150000\n",
       "B   Sangeeta   28    Pizza  Jrd  Teacher  100000"
      ]
     },
     "execution_count": 61,
     "metadata": {},
     "output_type": "execute_result"
    }
   ],
   "source": [
    "df.drop('C',axis=0,inplace=True)\n",
    "df"
   ]
  },
  {
   "cell_type": "markdown",
   "id": "5a6ad5ff-1390-4543-ac4d-852664312dbd",
   "metadata": {},
   "source": [
    "$Step-11$\r\n",
    "\r\n",
    "**How to save the data frame**\r\n",
    "\r\n",
    "- Generally data frames are two types\r\n",
    "\r\n",
    "- csv (comma seperated value)\r\n",
    "\r\n",
    "- excel"
   ]
  },
  {
   "cell_type": "code",
   "execution_count": 64,
   "id": "f5b84879-693d-45de-924d-2e7ab2b89f61",
   "metadata": {},
   "outputs": [],
   "source": [
    "# file name=data\n",
    "# extension=.csv\n",
    "df.to_csv('data.csv')\n",
    "df.to_csv('data1.csv',index=False)"
   ]
  },
  {
   "cell_type": "code",
   "execution_count": 65,
   "id": "00184f6a-d415-4990-bfd3-324a14b72ca9",
   "metadata": {},
   "outputs": [],
   "source": [
    "# Extension\n",
    "#.xlsx\n",
    "df.to_excel('data2.xlsx',index=False)"
   ]
  },
  {
   "cell_type": "markdown",
   "id": "5136efd4-2560-489e-bd2d-17baab7d954b",
   "metadata": {},
   "source": [
    "**Practise**"
   ]
  },
  {
   "cell_type": "code",
   "execution_count": 23,
   "id": "80528691-b484-4ef5-a9e8-118adc6f9d90",
   "metadata": {},
   "outputs": [
    {
     "data": {
      "text/html": [
       "<div>\n",
       "<style scoped>\n",
       "    .dataframe tbody tr th:only-of-type {\n",
       "        vertical-align: middle;\n",
       "    }\n",
       "\n",
       "    .dataframe tbody tr th {\n",
       "        vertical-align: top;\n",
       "    }\n",
       "\n",
       "    .dataframe thead th {\n",
       "        text-align: right;\n",
       "    }\n",
       "</style>\n",
       "<table border=\"1\" class=\"dataframe\">\n",
       "  <thead>\n",
       "    <tr style=\"text-align: right;\">\n",
       "      <th></th>\n",
       "      <th>Names</th>\n",
       "      <th>Country</th>\n",
       "      <th>Weight</th>\n",
       "      <th>age</th>\n",
       "      <th>Height ft</th>\n",
       "    </tr>\n",
       "  </thead>\n",
       "  <tbody>\n",
       "    <tr>\n",
       "      <th>1</th>\n",
       "      <td>Levan Saginashvili</td>\n",
       "      <td>Georgia</td>\n",
       "      <td>175</td>\n",
       "      <td>35</td>\n",
       "      <td>6.3</td>\n",
       "    </tr>\n",
       "    <tr>\n",
       "      <th>2</th>\n",
       "      <td>Ermes Gasparini</td>\n",
       "      <td>Italy</td>\n",
       "      <td>130</td>\n",
       "      <td>32</td>\n",
       "      <td>6.2</td>\n",
       "    </tr>\n",
       "    <tr>\n",
       "      <th>3</th>\n",
       "      <td>Devon Laratt</td>\n",
       "      <td>Canada</td>\n",
       "      <td>117</td>\n",
       "      <td>49</td>\n",
       "      <td>6.5</td>\n",
       "    </tr>\n",
       "    <tr>\n",
       "      <th>4</th>\n",
       "      <td>Artyom Morozov</td>\n",
       "      <td>Kazakhstan</td>\n",
       "      <td>140</td>\n",
       "      <td>26</td>\n",
       "      <td>6.4</td>\n",
       "    </tr>\n",
       "    <tr>\n",
       "      <th>5</th>\n",
       "      <td>Vitaly Laletin</td>\n",
       "      <td>Russia</td>\n",
       "      <td>144</td>\n",
       "      <td>34</td>\n",
       "      <td>6.8</td>\n",
       "    </tr>\n",
       "  </tbody>\n",
       "</table>\n",
       "</div>"
      ],
      "text/plain": [
       "                Names     Country  Weight  age  Height ft\n",
       "1  Levan Saginashvili     Georgia     175   35        6.3\n",
       "2     Ermes Gasparini       Italy     130   32        6.2\n",
       "3        Devon Laratt      Canada     117   49        6.5\n",
       "4      Artyom Morozov  Kazakhstan     140   26        6.4\n",
       "5      Vitaly Laletin      Russia     144   34        6.8"
      ]
     },
     "execution_count": 23,
     "metadata": {},
     "output_type": "execute_result"
    }
   ],
   "source": [
    "import pandas as pd\n",
    "names=['Levan Saginashvili','Ermes Gasparini','Devon Laratt','Artyom Morozov','Vitaly Laletin']\n",
    "nation=['Georgia','Italy','Canada','Kazakhstan','Russia']\n",
    "Weight=[175,130,117,140,144]\n",
    "Age=[35,32,49,26,34]\n",
    "height=[6.3,6.2,6.5,6.4,6.8]\n",
    "data=zip(names,nation,Weight,Age,height)\n",
    "idx=[1,2,3,4,5]\n",
    "column=['Names','Country','Weight','age','Height ft']\n",
    "am=pd.DataFrame(data,idx,column)\n",
    "am"
   ]
  },
  {
   "cell_type": "code",
   "execution_count": 28,
   "id": "24b3841c-000d-49a1-8372-83d0360b40f8",
   "metadata": {},
   "outputs": [
    {
     "data": {
      "text/html": [
       "<div>\n",
       "<style scoped>\n",
       "    .dataframe tbody tr th:only-of-type {\n",
       "        vertical-align: middle;\n",
       "    }\n",
       "\n",
       "    .dataframe tbody tr th {\n",
       "        vertical-align: top;\n",
       "    }\n",
       "\n",
       "    .dataframe thead th {\n",
       "        text-align: right;\n",
       "    }\n",
       "</style>\n",
       "<table border=\"1\" class=\"dataframe\">\n",
       "  <thead>\n",
       "    <tr style=\"text-align: right;\">\n",
       "      <th></th>\n",
       "      <th>Names</th>\n",
       "      <th>Country</th>\n",
       "      <th>Weight</th>\n",
       "      <th>age</th>\n",
       "      <th>Height ft</th>\n",
       "      <th>Biceps inch</th>\n",
       "    </tr>\n",
       "  </thead>\n",
       "  <tbody>\n",
       "    <tr>\n",
       "      <th>1</th>\n",
       "      <td>Levan Saginashvili</td>\n",
       "      <td>Georgia</td>\n",
       "      <td>175</td>\n",
       "      <td>35</td>\n",
       "      <td>6.3</td>\n",
       "      <td>24</td>\n",
       "    </tr>\n",
       "    <tr>\n",
       "      <th>2</th>\n",
       "      <td>Ermes Gasparini</td>\n",
       "      <td>Italy</td>\n",
       "      <td>130</td>\n",
       "      <td>32</td>\n",
       "      <td>6.2</td>\n",
       "      <td>21</td>\n",
       "    </tr>\n",
       "    <tr>\n",
       "      <th>3</th>\n",
       "      <td>Devon Laratt</td>\n",
       "      <td>Canada</td>\n",
       "      <td>117</td>\n",
       "      <td>49</td>\n",
       "      <td>6.5</td>\n",
       "      <td>18</td>\n",
       "    </tr>\n",
       "    <tr>\n",
       "      <th>4</th>\n",
       "      <td>Artyom Morozov</td>\n",
       "      <td>Kazakhstan</td>\n",
       "      <td>140</td>\n",
       "      <td>26</td>\n",
       "      <td>6.4</td>\n",
       "      <td>22</td>\n",
       "    </tr>\n",
       "    <tr>\n",
       "      <th>5</th>\n",
       "      <td>Vitaly Laletin</td>\n",
       "      <td>Russia</td>\n",
       "      <td>144</td>\n",
       "      <td>34</td>\n",
       "      <td>6.8</td>\n",
       "      <td>17</td>\n",
       "    </tr>\n",
       "    <tr>\n",
       "      <th>6</th>\n",
       "      <td>Denis Cyplenkov</td>\n",
       "      <td>Ukraine</td>\n",
       "      <td>133</td>\n",
       "      <td>45</td>\n",
       "      <td>6.1</td>\n",
       "      <td>23</td>\n",
       "    </tr>\n",
       "  </tbody>\n",
       "</table>\n",
       "</div>"
      ],
      "text/plain": [
       "                Names     Country  Weight  age  Height ft  Biceps inch\n",
       "1  Levan Saginashvili     Georgia     175   35        6.3           24\n",
       "2     Ermes Gasparini       Italy     130   32        6.2           21\n",
       "3        Devon Laratt      Canada     117   49        6.5           18\n",
       "4      Artyom Morozov  Kazakhstan     140   26        6.4           22\n",
       "5      Vitaly Laletin      Russia     144   34        6.8           17\n",
       "6     Denis Cyplenkov     Ukraine     133   45        6.1           23"
      ]
     },
     "execution_count": 28,
     "metadata": {},
     "output_type": "execute_result"
    }
   ],
   "source": [
    "am['Biceps inch']=[24,21,18,22,17,23]\n",
    "am"
   ]
  },
  {
   "cell_type": "code",
   "execution_count": 27,
   "id": "7b21f7e1-8f39-4217-ab45-8a260ee80126",
   "metadata": {},
   "outputs": [
    {
     "data": {
      "text/html": [
       "<div>\n",
       "<style scoped>\n",
       "    .dataframe tbody tr th:only-of-type {\n",
       "        vertical-align: middle;\n",
       "    }\n",
       "\n",
       "    .dataframe tbody tr th {\n",
       "        vertical-align: top;\n",
       "    }\n",
       "\n",
       "    .dataframe thead th {\n",
       "        text-align: right;\n",
       "    }\n",
       "</style>\n",
       "<table border=\"1\" class=\"dataframe\">\n",
       "  <thead>\n",
       "    <tr style=\"text-align: right;\">\n",
       "      <th></th>\n",
       "      <th>Names</th>\n",
       "      <th>Country</th>\n",
       "      <th>Weight</th>\n",
       "      <th>age</th>\n",
       "      <th>Height ft</th>\n",
       "    </tr>\n",
       "  </thead>\n",
       "  <tbody>\n",
       "    <tr>\n",
       "      <th>1</th>\n",
       "      <td>Levan Saginashvili</td>\n",
       "      <td>Georgia</td>\n",
       "      <td>175</td>\n",
       "      <td>35</td>\n",
       "      <td>6.3</td>\n",
       "    </tr>\n",
       "    <tr>\n",
       "      <th>2</th>\n",
       "      <td>Ermes Gasparini</td>\n",
       "      <td>Italy</td>\n",
       "      <td>130</td>\n",
       "      <td>32</td>\n",
       "      <td>6.2</td>\n",
       "    </tr>\n",
       "    <tr>\n",
       "      <th>3</th>\n",
       "      <td>Devon Laratt</td>\n",
       "      <td>Canada</td>\n",
       "      <td>117</td>\n",
       "      <td>49</td>\n",
       "      <td>6.5</td>\n",
       "    </tr>\n",
       "    <tr>\n",
       "      <th>4</th>\n",
       "      <td>Artyom Morozov</td>\n",
       "      <td>Kazakhstan</td>\n",
       "      <td>140</td>\n",
       "      <td>26</td>\n",
       "      <td>6.4</td>\n",
       "    </tr>\n",
       "    <tr>\n",
       "      <th>5</th>\n",
       "      <td>Vitaly Laletin</td>\n",
       "      <td>Russia</td>\n",
       "      <td>144</td>\n",
       "      <td>34</td>\n",
       "      <td>6.8</td>\n",
       "    </tr>\n",
       "    <tr>\n",
       "      <th>6</th>\n",
       "      <td>Denis Cyplenkov</td>\n",
       "      <td>Ukraine</td>\n",
       "      <td>133</td>\n",
       "      <td>45</td>\n",
       "      <td>6.1</td>\n",
       "    </tr>\n",
       "  </tbody>\n",
       "</table>\n",
       "</div>"
      ],
      "text/plain": [
       "                Names     Country  Weight  age  Height ft\n",
       "1  Levan Saginashvili     Georgia     175   35        6.3\n",
       "2     Ermes Gasparini       Italy     130   32        6.2\n",
       "3        Devon Laratt      Canada     117   49        6.5\n",
       "4      Artyom Morozov  Kazakhstan     140   26        6.4\n",
       "5      Vitaly Laletin      Russia     144   34        6.8\n",
       "6     Denis Cyplenkov     Ukraine     133   45        6.1"
      ]
     },
     "execution_count": 27,
     "metadata": {},
     "output_type": "execute_result"
    }
   ],
   "source": [
    "\n",
    "new_row = pd.DataFrame({\n",
    "                        'Names': ['Denis Cyplenkov'], \n",
    "                        'Country': ['Ukraine'], \n",
    "                        'Weight': [133], \n",
    "                        'age': [45], \n",
    "                        'Height ft': [6.1]}, index=[6])\n",
    "\n",
    "am = pd.concat([am, new_row]) \n",
    "am"
   ]
  },
  {
   "cell_type": "code",
   "execution_count": 25,
   "id": "617f49a2-37ab-4890-a626-2ee14f1cc502",
   "metadata": {},
   "outputs": [
    {
     "data": {
      "text/html": [
       "<div>\n",
       "<style scoped>\n",
       "    .dataframe tbody tr th:only-of-type {\n",
       "        vertical-align: middle;\n",
       "    }\n",
       "\n",
       "    .dataframe tbody tr th {\n",
       "        vertical-align: top;\n",
       "    }\n",
       "\n",
       "    .dataframe thead th {\n",
       "        text-align: right;\n",
       "    }\n",
       "</style>\n",
       "<table border=\"1\" class=\"dataframe\">\n",
       "  <thead>\n",
       "    <tr style=\"text-align: right;\">\n",
       "      <th></th>\n",
       "      <th>Names</th>\n",
       "      <th>Country</th>\n",
       "      <th>Weight</th>\n",
       "      <th>age</th>\n",
       "      <th>Height ft</th>\n",
       "    </tr>\n",
       "  </thead>\n",
       "  <tbody>\n",
       "    <tr>\n",
       "      <th>1</th>\n",
       "      <td>Levan Saginashvili</td>\n",
       "      <td>Georgia</td>\n",
       "      <td>175</td>\n",
       "      <td>35</td>\n",
       "      <td>6.3</td>\n",
       "    </tr>\n",
       "    <tr>\n",
       "      <th>2</th>\n",
       "      <td>Ermes Gasparini</td>\n",
       "      <td>Italy</td>\n",
       "      <td>130</td>\n",
       "      <td>32</td>\n",
       "      <td>6.2</td>\n",
       "    </tr>\n",
       "    <tr>\n",
       "      <th>3</th>\n",
       "      <td>Devon Laratt</td>\n",
       "      <td>Canada</td>\n",
       "      <td>117</td>\n",
       "      <td>49</td>\n",
       "      <td>6.5</td>\n",
       "    </tr>\n",
       "    <tr>\n",
       "      <th>4</th>\n",
       "      <td>Artyom Morozov</td>\n",
       "      <td>Kazakhstan</td>\n",
       "      <td>140</td>\n",
       "      <td>26</td>\n",
       "      <td>6.4</td>\n",
       "    </tr>\n",
       "    <tr>\n",
       "      <th>5</th>\n",
       "      <td>Vitaly Laletin</td>\n",
       "      <td>Russia</td>\n",
       "      <td>144</td>\n",
       "      <td>34</td>\n",
       "      <td>6.8</td>\n",
       "    </tr>\n",
       "  </tbody>\n",
       "</table>\n",
       "</div>"
      ],
      "text/plain": [
       "                Names     Country  Weight  age  Height ft\n",
       "1  Levan Saginashvili     Georgia     175   35        6.3\n",
       "2     Ermes Gasparini       Italy     130   32        6.2\n",
       "3        Devon Laratt      Canada     117   49        6.5\n",
       "4      Artyom Morozov  Kazakhstan     140   26        6.4\n",
       "5      Vitaly Laletin      Russia     144   34        6.8"
      ]
     },
     "execution_count": 25,
     "metadata": {},
     "output_type": "execute_result"
    }
   ],
   "source": [
    "am.drop(0,axis=0,inplace=True)\n",
    "am"
   ]
  },
  {
   "cell_type": "code",
   "execution_count": 19,
   "id": "d3b6cf86-f95c-4818-b901-d5878f2536cb",
   "metadata": {},
   "outputs": [
    {
     "data": {
      "text/html": [
       "<div>\n",
       "<style scoped>\n",
       "    .dataframe tbody tr th:only-of-type {\n",
       "        vertical-align: middle;\n",
       "    }\n",
       "\n",
       "    .dataframe tbody tr th {\n",
       "        vertical-align: top;\n",
       "    }\n",
       "\n",
       "    .dataframe thead th {\n",
       "        text-align: right;\n",
       "    }\n",
       "</style>\n",
       "<table border=\"1\" class=\"dataframe\">\n",
       "  <thead>\n",
       "    <tr style=\"text-align: right;\">\n",
       "      <th></th>\n",
       "      <th>Names</th>\n",
       "      <th>Country</th>\n",
       "      <th>Weight</th>\n",
       "      <th>age</th>\n",
       "      <th>Height ft</th>\n",
       "      <th>Biceps inch</th>\n",
       "    </tr>\n",
       "  </thead>\n",
       "  <tbody>\n",
       "    <tr>\n",
       "      <th>2</th>\n",
       "      <td>Devon Laratt</td>\n",
       "      <td>Canada</td>\n",
       "      <td>117</td>\n",
       "      <td>49</td>\n",
       "      <td>6.5</td>\n",
       "      <td>18.0</td>\n",
       "    </tr>\n",
       "    <tr>\n",
       "      <th>3</th>\n",
       "      <td>Artyom Morozov</td>\n",
       "      <td>Kazakhstan</td>\n",
       "      <td>140</td>\n",
       "      <td>26</td>\n",
       "      <td>6.4</td>\n",
       "      <td>22.0</td>\n",
       "    </tr>\n",
       "    <tr>\n",
       "      <th>4</th>\n",
       "      <td>Vitaly Laletin</td>\n",
       "      <td>Russia</td>\n",
       "      <td>144</td>\n",
       "      <td>34</td>\n",
       "      <td>6.8</td>\n",
       "      <td>17.0</td>\n",
       "    </tr>\n",
       "  </tbody>\n",
       "</table>\n",
       "</div>"
      ],
      "text/plain": [
       "            Names     Country  Weight  age  Height ft  Biceps inch\n",
       "2    Devon Laratt      Canada     117   49        6.5         18.0\n",
       "3  Artyom Morozov  Kazakhstan     140   26        6.4         22.0\n",
       "4  Vitaly Laletin      Russia     144   34        6.8         17.0"
      ]
     },
     "execution_count": 19,
     "metadata": {},
     "output_type": "execute_result"
    }
   ],
   "source": [
    "am.drop(1,axis=0)"
   ]
  },
  {
   "cell_type": "code",
   "execution_count": 21,
   "id": "7bdbfc9c-5986-4755-b55d-3ec36b876892",
   "metadata": {},
   "outputs": [
    {
     "data": {
      "text/html": [
       "<div>\n",
       "<style scoped>\n",
       "    .dataframe tbody tr th:only-of-type {\n",
       "        vertical-align: middle;\n",
       "    }\n",
       "\n",
       "    .dataframe tbody tr th {\n",
       "        vertical-align: top;\n",
       "    }\n",
       "\n",
       "    .dataframe thead th {\n",
       "        text-align: right;\n",
       "    }\n",
       "</style>\n",
       "<table border=\"1\" class=\"dataframe\">\n",
       "  <thead>\n",
       "    <tr style=\"text-align: right;\">\n",
       "      <th></th>\n",
       "      <th>Names</th>\n",
       "      <th>Country</th>\n",
       "      <th>Weight</th>\n",
       "      <th>Height ft</th>\n",
       "      <th>Biceps inch</th>\n",
       "    </tr>\n",
       "  </thead>\n",
       "  <tbody>\n",
       "    <tr>\n",
       "      <th>1</th>\n",
       "      <td>Ermes Gasparini</td>\n",
       "      <td>Italy</td>\n",
       "      <td>130</td>\n",
       "      <td>6.2</td>\n",
       "      <td>21.0</td>\n",
       "    </tr>\n",
       "    <tr>\n",
       "      <th>2</th>\n",
       "      <td>Devon Laratt</td>\n",
       "      <td>Canada</td>\n",
       "      <td>117</td>\n",
       "      <td>6.5</td>\n",
       "      <td>18.0</td>\n",
       "    </tr>\n",
       "    <tr>\n",
       "      <th>3</th>\n",
       "      <td>Artyom Morozov</td>\n",
       "      <td>Kazakhstan</td>\n",
       "      <td>140</td>\n",
       "      <td>6.4</td>\n",
       "      <td>22.0</td>\n",
       "    </tr>\n",
       "    <tr>\n",
       "      <th>4</th>\n",
       "      <td>Vitaly Laletin</td>\n",
       "      <td>Russia</td>\n",
       "      <td>144</td>\n",
       "      <td>6.8</td>\n",
       "      <td>17.0</td>\n",
       "    </tr>\n",
       "  </tbody>\n",
       "</table>\n",
       "</div>"
      ],
      "text/plain": [
       "             Names     Country  Weight  Height ft  Biceps inch\n",
       "1  Ermes Gasparini       Italy     130        6.2         21.0\n",
       "2     Devon Laratt      Canada     117        6.5         18.0\n",
       "3   Artyom Morozov  Kazakhstan     140        6.4         22.0\n",
       "4   Vitaly Laletin      Russia     144        6.8         17.0"
      ]
     },
     "execution_count": 21,
     "metadata": {},
     "output_type": "execute_result"
    }
   ],
   "source": [
    "am.drop('age',axis=1)"
   ]
  },
  {
   "cell_type": "code",
   "execution_count": 31,
   "id": "2042dcaa-e7c9-4328-8aca-11617bad34b0",
   "metadata": {},
   "outputs": [],
   "source": [
    "am.to_excel('Armwrestling.xlsx')"
   ]
  },
  {
   "cell_type": "code",
   "execution_count": 33,
   "id": "55d24f3a-8f76-4338-b5ad-e7a69bcb9add",
   "metadata": {},
   "outputs": [
    {
     "data": {
      "text/html": [
       "<div>\n",
       "<style scoped>\n",
       "    .dataframe tbody tr th:only-of-type {\n",
       "        vertical-align: middle;\n",
       "    }\n",
       "\n",
       "    .dataframe tbody tr th {\n",
       "        vertical-align: top;\n",
       "    }\n",
       "\n",
       "    .dataframe thead th {\n",
       "        text-align: right;\n",
       "    }\n",
       "</style>\n",
       "<table border=\"1\" class=\"dataframe\">\n",
       "  <thead>\n",
       "    <tr style=\"text-align: right;\">\n",
       "      <th></th>\n",
       "      <th>Names</th>\n",
       "      <th>Country</th>\n",
       "      <th>Weight</th>\n",
       "      <th>age</th>\n",
       "      <th>Height ft</th>\n",
       "      <th>Biceps inch</th>\n",
       "    </tr>\n",
       "  </thead>\n",
       "  <tbody>\n",
       "    <tr>\n",
       "      <th>1</th>\n",
       "      <td>Levan Saginashvili</td>\n",
       "      <td>Georgia</td>\n",
       "      <td>175</td>\n",
       "      <td>35</td>\n",
       "      <td>6.3</td>\n",
       "      <td>24</td>\n",
       "    </tr>\n",
       "    <tr>\n",
       "      <th>2</th>\n",
       "      <td>Ermes Gasparini</td>\n",
       "      <td>Italy</td>\n",
       "      <td>130</td>\n",
       "      <td>32</td>\n",
       "      <td>6.2</td>\n",
       "      <td>21</td>\n",
       "    </tr>\n",
       "    <tr>\n",
       "      <th>3</th>\n",
       "      <td>Devon Laratt</td>\n",
       "      <td>Canada</td>\n",
       "      <td>117</td>\n",
       "      <td>49</td>\n",
       "      <td>6.5</td>\n",
       "      <td>18</td>\n",
       "    </tr>\n",
       "    <tr>\n",
       "      <th>4</th>\n",
       "      <td>Artyom Morozov</td>\n",
       "      <td>Kazakhstan</td>\n",
       "      <td>140</td>\n",
       "      <td>26</td>\n",
       "      <td>6.4</td>\n",
       "      <td>22</td>\n",
       "    </tr>\n",
       "    <tr>\n",
       "      <th>5</th>\n",
       "      <td>Vitaly Laletin</td>\n",
       "      <td>Russia</td>\n",
       "      <td>144</td>\n",
       "      <td>34</td>\n",
       "      <td>6.8</td>\n",
       "      <td>17</td>\n",
       "    </tr>\n",
       "    <tr>\n",
       "      <th>6</th>\n",
       "      <td>Denis Cyplenkov</td>\n",
       "      <td>Ukraine</td>\n",
       "      <td>133</td>\n",
       "      <td>45</td>\n",
       "      <td>6.1</td>\n",
       "      <td>23</td>\n",
       "    </tr>\n",
       "  </tbody>\n",
       "</table>\n",
       "</div>"
      ],
      "text/plain": [
       "                Names     Country  Weight  age  Height ft  Biceps inch\n",
       "1  Levan Saginashvili     Georgia     175   35        6.3           24\n",
       "2     Ermes Gasparini       Italy     130   32        6.2           21\n",
       "3        Devon Laratt      Canada     117   49        6.5           18\n",
       "4      Artyom Morozov  Kazakhstan     140   26        6.4           22\n",
       "5      Vitaly Laletin      Russia     144   34        6.8           17\n",
       "6     Denis Cyplenkov     Ukraine     133   45        6.1           23"
      ]
     },
     "execution_count": 33,
     "metadata": {},
     "output_type": "execute_result"
    }
   ],
   "source": [
    "am\n"
   ]
  },
  {
   "cell_type": "code",
   "execution_count": null,
   "id": "f043cd2b-cfe9-4c1c-a08f-45ca332b4783",
   "metadata": {},
   "outputs": [],
   "source": []
  }
 ],
 "metadata": {
  "kernelspec": {
   "display_name": "Python 3 (ipykernel)",
   "language": "python",
   "name": "python3"
  },
  "language_info": {
   "codemirror_mode": {
    "name": "ipython",
    "version": 3
   },
   "file_extension": ".py",
   "mimetype": "text/x-python",
   "name": "python",
   "nbconvert_exporter": "python",
   "pygments_lexer": "ipython3",
   "version": "3.11.7"
  }
 },
 "nbformat": 4,
 "nbformat_minor": 5
}

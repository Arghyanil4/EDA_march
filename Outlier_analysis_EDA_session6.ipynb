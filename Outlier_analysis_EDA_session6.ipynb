{
 "cells": [
  {
   "cell_type": "code",
   "execution_count": 2,
   "id": "9776be5f-f0ee-48dc-8307-110dfa6ece77",
   "metadata": {},
   "outputs": [],
   "source": [
    "import pandas as pd\n",
    "import numpy as np\n",
    "import matplotlib.pylab as plt\n",
    "import seaborn as sns"
   ]
  },
  {
   "cell_type": "code",
   "execution_count": 3,
   "id": "19fa8467-bf22-4d86-8b32-3c180aa80934",
   "metadata": {},
   "outputs": [
    {
     "data": {
      "text/html": [
       "<div>\n",
       "<style scoped>\n",
       "    .dataframe tbody tr th:only-of-type {\n",
       "        vertical-align: middle;\n",
       "    }\n",
       "\n",
       "    .dataframe tbody tr th {\n",
       "        vertical-align: top;\n",
       "    }\n",
       "\n",
       "    .dataframe thead th {\n",
       "        text-align: right;\n",
       "    }\n",
       "</style>\n",
       "<table border=\"1\" class=\"dataframe\">\n",
       "  <thead>\n",
       "    <tr style=\"text-align: right;\">\n",
       "      <th></th>\n",
       "      <th>case_id</th>\n",
       "      <th>continent</th>\n",
       "      <th>education_of_employee</th>\n",
       "      <th>has_job_experience</th>\n",
       "      <th>requires_job_training</th>\n",
       "      <th>no_of_employees</th>\n",
       "      <th>yr_of_estab</th>\n",
       "      <th>region_of_employment</th>\n",
       "      <th>prevailing_wage</th>\n",
       "      <th>unit_of_wage</th>\n",
       "      <th>full_time_position</th>\n",
       "      <th>case_status</th>\n",
       "    </tr>\n",
       "  </thead>\n",
       "  <tbody>\n",
       "    <tr>\n",
       "      <th>0</th>\n",
       "      <td>EZYV01</td>\n",
       "      <td>Asia</td>\n",
       "      <td>High School</td>\n",
       "      <td>N</td>\n",
       "      <td>N</td>\n",
       "      <td>14513</td>\n",
       "      <td>2007</td>\n",
       "      <td>West</td>\n",
       "      <td>592.2029</td>\n",
       "      <td>Hour</td>\n",
       "      <td>Y</td>\n",
       "      <td>Denied</td>\n",
       "    </tr>\n",
       "    <tr>\n",
       "      <th>1</th>\n",
       "      <td>EZYV02</td>\n",
       "      <td>Asia</td>\n",
       "      <td>Master's</td>\n",
       "      <td>Y</td>\n",
       "      <td>N</td>\n",
       "      <td>2412</td>\n",
       "      <td>2002</td>\n",
       "      <td>Northeast</td>\n",
       "      <td>83425.6500</td>\n",
       "      <td>Year</td>\n",
       "      <td>Y</td>\n",
       "      <td>Certified</td>\n",
       "    </tr>\n",
       "  </tbody>\n",
       "</table>\n",
       "</div>"
      ],
      "text/plain": [
       "  case_id continent education_of_employee has_job_experience  \\\n",
       "0  EZYV01      Asia           High School                  N   \n",
       "1  EZYV02      Asia              Master's                  Y   \n",
       "\n",
       "  requires_job_training  no_of_employees  yr_of_estab region_of_employment  \\\n",
       "0                     N            14513         2007                 West   \n",
       "1                     N             2412         2002            Northeast   \n",
       "\n",
       "   prevailing_wage unit_of_wage full_time_position case_status  \n",
       "0         592.2029         Hour                  Y      Denied  \n",
       "1       83425.6500         Year                  Y   Certified  "
      ]
     },
     "execution_count": 3,
     "metadata": {},
     "output_type": "execute_result"
    }
   ],
   "source": [
    "visa_df= pd.read_csv(r\"C:\\Users\\dasar\\Documents\\Data Science\\Naresh IT\\Data sets\\Visadataset.csv\")\n",
    "visa_df.head(2)"
   ]
  },
  {
   "cell_type": "markdown",
   "id": "af0c4e28-7eb9-449d-a9a5-211c0addf45e",
   "metadata": {},
   "source": [
    "**Box Plot**"
   ]
  },
  {
   "cell_type": "markdown",
   "id": "f8436d49-8895-4b2c-b4a6-fc4f280423a3",
   "metadata": {},
   "source": [
    "- box plot is used to detect outliers\n",
    "- box plot has min q1 q2 q3 and max value\n",
    "- inside box plot red line represents median which is 50 percentile data\n",
    "\n",
    "**Outliers**\n",
    "  \n",
    "- very very huge observation\n",
    "- very very small observation\n",
    "- which pull the data in any side of the distribution\n",
    "- mild outliers\n",
    "    - q1-1.5*IQR\n",
    "- Strong outliers\n",
    "    - q1-3*IQR and q1+3*IQR\n",
    "- IQR: Inter Quartile range\n",
    "    - IQR=Q3-Q1\n",
    "- Q1: 25p\n",
    "- Q1: 50p\n",
    "- Q3: 75p\n"
   ]
  },
  {
   "cell_type": "code",
   "execution_count": 4,
   "id": "36fef1cf-36a9-478a-9c47-61bd38961db5",
   "metadata": {},
   "outputs": [
    {
     "name": "stdout",
     "output_type": "stream",
     "text": [
      "        no_of_employees  yr_of_estab  prevailing_wage\n",
      "Count          25480.00     25480.00         25480.00\n",
      "Min              -26.00      1800.00             2.14\n",
      "Max           602069.00      2016.00        319210.27\n",
      "Mean            5667.04      1979.41         74455.81\n",
      "Median          2109.00      1997.00         70308.21\n",
      "Std            22877.93        42.37         52815.94\n",
      "25%             1022.00      1976.00         34015.48\n",
      "50%             2109.00      1997.00         70308.21\n",
      "75%             3504.00      2005.00        107735.51\n"
     ]
    }
   ],
   "source": [
    "columns = ['no_of_employees', 'yr_of_estab', 'prevailing_wage']  # Replace with actual column names\n",
    "stats_data=[]\n",
    "# Compute statistics for each column\n",
    "for col in columns:\n",
    "    count = len(visa_df[col])\n",
    "    min_val = round(visa_df[col].min(), 2)\n",
    "    max_val = round(visa_df[col].max(), 2)\n",
    "    mean_val = round(visa_df[col].mean(), 2)\n",
    "    median_val = round(visa_df[col].median(), 2)\n",
    "    std_val = round(visa_df[col].std(), 2)\n",
    "    _25p_val = round(np.percentile(visa_df[col], 25), 2)\n",
    "    _50p_val = round(np.percentile(visa_df[col], 50), 2)  # Equivalent to median\n",
    "    _75p_val = round(np.percentile(visa_df[col], 75), 2)\n",
    "    \n",
    "    stats_data.append([count, min_val, max_val, mean_val, median_val, std_val, _25p_val, _50p_val, _75p_val])\n",
    "\n",
    "# Index for the statistics\n",
    "index = ['Count', 'Min', 'Max', 'Mean', 'Median', 'Std', '25%', '50%', '75%']\n",
    "\n",
    "# Create a DataFrame to store the statistics\n",
    "stats_df = pd.DataFrame(stats_data, columns=index, index=columns).T\n",
    "\n",
    "print(stats_df)"
   ]
  },
  {
   "cell_type": "code",
   "execution_count": 5,
   "id": "fc3abc2d-3cbe-4760-828a-bc5c2328e7de",
   "metadata": {},
   "outputs": [
    {
     "data": {
      "image/png": "[encoded data removed]",
      "text/plain": [
       "<Figure size 640x480 with 1 Axes>"
      ]
     },
     "metadata": {},
     "output_type": "display_data"
    }
   ],
   "source": [
    "plt.boxplot(visa_df[\"prevailing_wage\"], vert=False)\n",
    "plt.xlabel('Columns')\n",
    "plt.ylabel('Values')\n",
    "plt.title('Boxplot of Columns')\n",
    "plt.show()"
   ]
  },
  {
   "cell_type": "code",
   "execution_count": 11,
   "id": "bbb65c90-2279-460f-8200-5353676a83c0",
   "metadata": {},
   "outputs": [
    {
     "data": {
      "text/plain": [
       "<Axes: >"
      ]
     },
     "execution_count": 11,
     "metadata": {},
     "output_type": "execute_result"
    },
    {
     "data": {
      "image/png": "[encoded data removed]",
      "text/plain": [
       "<Figure size 640x480 with 1 Axes>"
      ]
     },
     "metadata": {},
     "output_type": "display_data"
    }
   ],
   "source": [
    "sns.boxplot(visa_df['prevailing_wage'],orient='h')"
   ]
  },
  {
   "cell_type": "code",
   "execution_count": 15,
   "id": "4554a6fd-09ff-466a-bd74-4701def9f57b",
   "metadata": {},
   "outputs": [
    {
     "data": {
      "text/plain": [
       "{'whiskers': [<matplotlib.lines.Line2D at 0x24fa0ded110>,\n",
       "  <matplotlib.lines.Line2D at 0x24fa0defd90>],\n",
       " 'caps': [<matplotlib.lines.Line2D at 0x24fa0dec590>,\n",
       "  <matplotlib.lines.Line2D at 0x24f9e53a650>],\n",
       " 'boxes': [<matplotlib.lines.Line2D at 0x24fa0e02190>],\n",
       " 'medians': [<matplotlib.lines.Line2D at 0x24fa0e0aed0>],\n",
       " 'fliers': [<matplotlib.lines.Line2D at 0x24fa0e096d0>],\n",
       " 'means': []}"
      ]
     },
     "execution_count": 15,
     "metadata": {},
     "output_type": "execute_result"
    },
    {
     "data": {
      "image/png": "[encoded data removed]",
      "text/plain": [
       "<Figure size 1400x300 with 2 Axes>"
      ]
     },
     "metadata": {},
     "output_type": "display_data"
    }
   ],
   "source": [
    "plt.figure(figsize=(14,3))\n",
    "plt.subplot(1,2,1).hist(visa_df['prevailing_wage'])\n",
    "plt.subplot(1,2,2).boxplot(visa_df['prevailing_wage'])"
   ]
  },
  {
   "cell_type": "markdown",
   "id": "52937315-bd3d-4850-94d5-90372434cbc9",
   "metadata": {},
   "source": [
    "** Finding the outliers **\n",
    "- Outliers are available less than q1-1.5*IQR\n",
    "- Outliers are available greater than q3+1.5*IQR\n",
    "- Step1:\n",
    "    - calculate Q1\n",
    "    - calculate Q3\n",
    "    - calculate IQR: Q3-Q1\n",
    "- Step-2\n",
    "    - LB = q1-1.5*IQR\n",
    "    - UB = q1+1.5*IQR\n",
    "- Step -3\n",
    "    - con1= visa_df['prevailing_wage']<LB\n",
    "    - con2= visa_df['prevailing_wage']>UB\n",
    "    - apply OR operator and get the outliers data"
   ]
  },
  {
   "cell_type": "code",
   "execution_count": 7,
   "id": "c2def599-e79b-4994-8a4f-7eb322e5f3ab",
   "metadata": {},
   "outputs": [
    {
     "data": {
      "text/plain": [
       "427"
      ]
     },
     "execution_count": 7,
     "metadata": {},
     "output_type": "execute_result"
    }
   ],
   "source": [
    "Q1=round(np.percentile(visa_df['prevailing_wage'], 25), 2)\n",
    "Q3=round(np.percentile(visa_df['prevailing_wage'], 75), 2)\n",
    "IQR=Q3-Q1\n",
    "LB= Q1-(1.5*IQR)\n",
    "UB= Q3+(1.5*IQR)\n",
    "con1=(visa_df['prevailing_wage']<LB)\n",
    "con2=(visa_df['prevailing_wage']>UB)\n",
    "Outliers_data=visa_df[con1 | con2]\n",
    "len(Outliers_data)"
   ]
  },
  {
   "cell_type": "code",
   "execution_count": 12,
   "id": "e744aced-cdae-4274-a732-4d4e03593a67",
   "metadata": {},
   "outputs": [
    {
     "data": {
      "text/html": [
       "<div>\n",
       "<style scoped>\n",
       "    .dataframe tbody tr th:only-of-type {\n",
       "        vertical-align: middle;\n",
       "    }\n",
       "\n",
       "    .dataframe tbody tr th {\n",
       "        vertical-align: top;\n",
       "    }\n",
       "\n",
       "    .dataframe thead th {\n",
       "        text-align: right;\n",
       "    }\n",
       "</style>\n",
       "<table border=\"1\" class=\"dataframe\">\n",
       "  <thead>\n",
       "    <tr style=\"text-align: right;\">\n",
       "      <th></th>\n",
       "      <th>case_id</th>\n",
       "      <th>continent</th>\n",
       "      <th>education_of_employee</th>\n",
       "      <th>has_job_experience</th>\n",
       "      <th>requires_job_training</th>\n",
       "      <th>no_of_employees</th>\n",
       "      <th>yr_of_estab</th>\n",
       "      <th>region_of_employment</th>\n",
       "      <th>prevailing_wage</th>\n",
       "      <th>unit_of_wage</th>\n",
       "      <th>full_time_position</th>\n",
       "      <th>case_status</th>\n",
       "    </tr>\n",
       "  </thead>\n",
       "  <tbody>\n",
       "    <tr>\n",
       "      <th>0</th>\n",
       "      <td>EZYV01</td>\n",
       "      <td>Asia</td>\n",
       "      <td>High School</td>\n",
       "      <td>N</td>\n",
       "      <td>N</td>\n",
       "      <td>14513</td>\n",
       "      <td>2007</td>\n",
       "      <td>West</td>\n",
       "      <td>592.2029</td>\n",
       "      <td>Hour</td>\n",
       "      <td>Y</td>\n",
       "      <td>Denied</td>\n",
       "    </tr>\n",
       "    <tr>\n",
       "      <th>1</th>\n",
       "      <td>EZYV02</td>\n",
       "      <td>Asia</td>\n",
       "      <td>Master's</td>\n",
       "      <td>Y</td>\n",
       "      <td>N</td>\n",
       "      <td>2412</td>\n",
       "      <td>2002</td>\n",
       "      <td>Northeast</td>\n",
       "      <td>83425.6500</td>\n",
       "      <td>Year</td>\n",
       "      <td>Y</td>\n",
       "      <td>Certified</td>\n",
       "    </tr>\n",
       "    <tr>\n",
       "      <th>2</th>\n",
       "      <td>EZYV03</td>\n",
       "      <td>Asia</td>\n",
       "      <td>Bachelor's</td>\n",
       "      <td>N</td>\n",
       "      <td>Y</td>\n",
       "      <td>44444</td>\n",
       "      <td>2008</td>\n",
       "      <td>West</td>\n",
       "      <td>122996.8600</td>\n",
       "      <td>Year</td>\n",
       "      <td>Y</td>\n",
       "      <td>Denied</td>\n",
       "    </tr>\n",
       "    <tr>\n",
       "      <th>3</th>\n",
       "      <td>EZYV04</td>\n",
       "      <td>Asia</td>\n",
       "      <td>Bachelor's</td>\n",
       "      <td>N</td>\n",
       "      <td>N</td>\n",
       "      <td>98</td>\n",
       "      <td>1897</td>\n",
       "      <td>West</td>\n",
       "      <td>83434.0300</td>\n",
       "      <td>Year</td>\n",
       "      <td>Y</td>\n",
       "      <td>Denied</td>\n",
       "    </tr>\n",
       "    <tr>\n",
       "      <th>4</th>\n",
       "      <td>EZYV05</td>\n",
       "      <td>Africa</td>\n",
       "      <td>Master's</td>\n",
       "      <td>Y</td>\n",
       "      <td>N</td>\n",
       "      <td>1082</td>\n",
       "      <td>2005</td>\n",
       "      <td>South</td>\n",
       "      <td>149907.3900</td>\n",
       "      <td>Year</td>\n",
       "      <td>Y</td>\n",
       "      <td>Certified</td>\n",
       "    </tr>\n",
       "    <tr>\n",
       "      <th>...</th>\n",
       "      <td>...</td>\n",
       "      <td>...</td>\n",
       "      <td>...</td>\n",
       "      <td>...</td>\n",
       "      <td>...</td>\n",
       "      <td>...</td>\n",
       "      <td>...</td>\n",
       "      <td>...</td>\n",
       "      <td>...</td>\n",
       "      <td>...</td>\n",
       "      <td>...</td>\n",
       "      <td>...</td>\n",
       "    </tr>\n",
       "    <tr>\n",
       "      <th>25474</th>\n",
       "      <td>EZYV25475</td>\n",
       "      <td>Africa</td>\n",
       "      <td>Doctorate</td>\n",
       "      <td>N</td>\n",
       "      <td>N</td>\n",
       "      <td>2594</td>\n",
       "      <td>1979</td>\n",
       "      <td>Northeast</td>\n",
       "      <td>51104.7800</td>\n",
       "      <td>Year</td>\n",
       "      <td>Y</td>\n",
       "      <td>Certified</td>\n",
       "    </tr>\n",
       "    <tr>\n",
       "      <th>25475</th>\n",
       "      <td>EZYV25476</td>\n",
       "      <td>Asia</td>\n",
       "      <td>Bachelor's</td>\n",
       "      <td>Y</td>\n",
       "      <td>Y</td>\n",
       "      <td>2601</td>\n",
       "      <td>2008</td>\n",
       "      <td>South</td>\n",
       "      <td>77092.5700</td>\n",
       "      <td>Year</td>\n",
       "      <td>Y</td>\n",
       "      <td>Certified</td>\n",
       "    </tr>\n",
       "    <tr>\n",
       "      <th>25477</th>\n",
       "      <td>EZYV25478</td>\n",
       "      <td>Asia</td>\n",
       "      <td>Master's</td>\n",
       "      <td>Y</td>\n",
       "      <td>N</td>\n",
       "      <td>1121</td>\n",
       "      <td>1910</td>\n",
       "      <td>South</td>\n",
       "      <td>146298.8500</td>\n",
       "      <td>Year</td>\n",
       "      <td>N</td>\n",
       "      <td>Certified</td>\n",
       "    </tr>\n",
       "    <tr>\n",
       "      <th>25478</th>\n",
       "      <td>EZYV25479</td>\n",
       "      <td>Asia</td>\n",
       "      <td>Master's</td>\n",
       "      <td>Y</td>\n",
       "      <td>Y</td>\n",
       "      <td>1918</td>\n",
       "      <td>1887</td>\n",
       "      <td>West</td>\n",
       "      <td>86154.7700</td>\n",
       "      <td>Year</td>\n",
       "      <td>Y</td>\n",
       "      <td>Certified</td>\n",
       "    </tr>\n",
       "    <tr>\n",
       "      <th>25479</th>\n",
       "      <td>EZYV25480</td>\n",
       "      <td>Asia</td>\n",
       "      <td>Bachelor's</td>\n",
       "      <td>Y</td>\n",
       "      <td>N</td>\n",
       "      <td>3195</td>\n",
       "      <td>1960</td>\n",
       "      <td>Midwest</td>\n",
       "      <td>70876.9100</td>\n",
       "      <td>Year</td>\n",
       "      <td>Y</td>\n",
       "      <td>Certified</td>\n",
       "    </tr>\n",
       "  </tbody>\n",
       "</table>\n",
       "<p>25053 rows × 12 columns</p>\n",
       "</div>"
      ],
      "text/plain": [
       "         case_id continent education_of_employee has_job_experience  \\\n",
       "0         EZYV01      Asia           High School                  N   \n",
       "1         EZYV02      Asia              Master's                  Y   \n",
       "2         EZYV03      Asia            Bachelor's                  N   \n",
       "3         EZYV04      Asia            Bachelor's                  N   \n",
       "4         EZYV05    Africa              Master's                  Y   \n",
       "...          ...       ...                   ...                ...   \n",
       "25474  EZYV25475    Africa             Doctorate                  N   \n",
       "25475  EZYV25476      Asia            Bachelor's                  Y   \n",
       "25477  EZYV25478      Asia              Master's                  Y   \n",
       "25478  EZYV25479      Asia              Master's                  Y   \n",
       "25479  EZYV25480      Asia            Bachelor's                  Y   \n",
       "\n",
       "      requires_job_training  no_of_employees  yr_of_estab  \\\n",
       "0                         N            14513         2007   \n",
       "1                         N             2412         2002   \n",
       "2                         Y            44444         2008   \n",
       "3                         N               98         1897   \n",
       "4                         N             1082         2005   \n",
       "...                     ...              ...          ...   \n",
       "25474                     N             2594         1979   \n",
       "25475                     Y             2601         2008   \n",
       "25477                     N             1121         1910   \n",
       "25478                     Y             1918         1887   \n",
       "25479                     N             3195         1960   \n",
       "\n",
       "      region_of_employment  prevailing_wage unit_of_wage full_time_position  \\\n",
       "0                     West         592.2029         Hour                  Y   \n",
       "1                Northeast       83425.6500         Year                  Y   \n",
       "2                     West      122996.8600         Year                  Y   \n",
       "3                     West       83434.0300         Year                  Y   \n",
       "4                    South      149907.3900         Year                  Y   \n",
       "...                    ...              ...          ...                ...   \n",
       "25474            Northeast       51104.7800         Year                  Y   \n",
       "25475                South       77092.5700         Year                  Y   \n",
       "25477                South      146298.8500         Year                  N   \n",
       "25478                 West       86154.7700         Year                  Y   \n",
       "25479              Midwest       70876.9100         Year                  Y   \n",
       "\n",
       "      case_status  \n",
       "0          Denied  \n",
       "1       Certified  \n",
       "2          Denied  \n",
       "3          Denied  \n",
       "4       Certified  \n",
       "...           ...  \n",
       "25474   Certified  \n",
       "25475   Certified  \n",
       "25477   Certified  \n",
       "25478   Certified  \n",
       "25479   Certified  \n",
       "\n",
       "[25053 rows x 12 columns]"
      ]
     },
     "execution_count": 12,
     "metadata": {},
     "output_type": "execute_result"
    }
   ],
   "source": [
    "Q1=round(np.percentile(visa_df['prevailing_wage'], 25), 2)\n",
    "Q3=round(np.percentile(visa_df['prevailing_wage'], 75), 2)\n",
    "IQR=Q3-Q1\n",
    "LB= Q1-1.5*IQR\n",
    "UB= Q3+1.5*IQR\n",
    "non_Outliers_data=visa_df[(visa_df['prevailing_wage']>LB) & (visa_df['prevailing_wage']<UB)]\n",
    "non_Outliers_data"
   ]
  },
  {
   "cell_type": "code",
   "execution_count": 13,
   "id": "dbd5ccc5-4593-44c4-b127-843f93cd016e",
   "metadata": {},
   "outputs": [
    {
     "data": {
      "image/png": "[encoded data removed]",
      "text/plain": [
       "<Figure size 1400x500 with 4 Axes>"
      ]
     },
     "metadata": {},
     "output_type": "display_data"
    }
   ],
   "source": [
    "plt.figure(figsize=(14,5))\n",
    "\n",
    "plt.suptitle('Non Outliers data vs original data')\n",
    "plt.subplot(2,2,1).hist(non_Outliers_data['prevailing_wage'])\n",
    "plt.subplot(2,2,3).boxplot(non_Outliers_data['prevailing_wage'])\n",
    "\n",
    "\n",
    "plt.subplot(2,2,2).hist(visa_df['prevailing_wage'])\n",
    "plt.subplot(2,2,4).boxplot(visa_df['prevailing_wage'])\n",
    "plt.show()"
   ]
  },
  {
   "cell_type": "code",
   "execution_count": 14,
   "id": "62de19dd-c1cc-40be-a370-dc642ff66d9b",
   "metadata": {},
   "outputs": [
    {
     "data": {
      "image/png": "[encoded data removed]",
      "text/plain": [
       "<Figure size 1400x500 with 1 Axes>"
      ]
     },
     "metadata": {},
     "output_type": "display_data"
    }
   ],
   "source": [
    "#Comparison\n",
    "plt.figure(figsize=(14,5))\n",
    "plt.subplot(1,2,1).hist(visa_df['prevailing_wage'])\n",
    "plt.subplot(1,2,1).hist(non_Outliers_data['prevailing_wage'])\n",
    "plt.show()"
   ]
  },
  {
   "cell_type": "markdown",
   "id": "ca6d326f-d4e5-4b97-b0ff-60cca0c75fa5",
   "metadata": {},
   "source": [
    "**How to deal with outliers**\n",
    "**Drop the Outliers**\n",
    "- Dropping is not considered\n",
    "- When dropped , data will be lost\n",
    "- For example here we are dropping 2173 rows\n",
    "- x% of 25480-2173\n",
    "- it is some percent data\n",
    "\n",
    "**Method-2: Fill with median value**\n",
    "- we already know that outliers does not affect the median\n",
    "- So we can fill outliers by median\n",
    "\n",
    "**Method-3: Cap the values with Q1 and Q3**\n",
    "- all less than lower bound values, we can replace with Q1 or LB\n",
    "- all Greater than upper bound values, we can replace with Q3 or UB\n",
    "    "
   ]
  },
  {
   "cell_type": "markdown",
   "id": "d21d9fc3-645d-4f9a-bed5-f7b693ffb85f",
   "metadata": {},
   "source": [
    "**Fill with median**\n",
    "- Create empty list\n",
    "- iterate the visa_df['prevailing_wage'].values\n",
    "- if each value <LB or >UB then append with median value\n",
    "- else append with i value"
   ]
  },
  {
   "cell_type": "code",
   "execution_count": 15,
   "id": "9bdca6e6-731d-4a35-bd48-011e58420b60",
   "metadata": {},
   "outputs": [
    {
     "name": "stdout",
     "output_type": "stream",
     "text": [
      "       prevailing_wage  modified_wage\n",
      "0             592.2029       592.2029\n",
      "1           83425.6500     83425.6500\n",
      "2          122996.8600    122996.8600\n",
      "3           83434.0300     83434.0300\n",
      "4          149907.3900     70308.2100\n",
      "...                ...            ...\n",
      "25475       77092.5700     77092.5700\n",
      "25476      279174.7900     70308.2100\n",
      "25477      146298.8500     70308.2100\n",
      "25478       86154.7700     86154.7700\n",
      "25479       70876.9100     70876.9100\n",
      "\n",
      "[25480 rows x 2 columns]\n"
     ]
    },
    {
     "data": {
      "image/png": "[encoded data removed]",
      "text/plain": [
       "<Figure size 640x480 with 2 Axes>"
      ]
     },
     "metadata": {},
     "output_type": "display_data"
    }
   ],
   "source": [
    "Q1=round(np.percentile(visa_df['prevailing_wage'], 25), 2)\n",
    "Q3=round(np.percentile(visa_df['prevailing_wage'], 75), 2)\n",
    "IQR=Q3-Q1\n",
    "LB= Q1-1.5*IQR\n",
    "UB= Q1+1.5*IQR\n",
    "median_wage = round(np.median(visa_df['prevailing_wage']), 2)\n",
    "\n",
    "# Create an empty list to store the modified values\n",
    "modified_wages = []\n",
    "\n",
    "# Iterate through the prevailing_wage values and replace outliers with the median\n",
    "for wage in visa_df['prevailing_wage'].values:\n",
    "    if wage < LB or wage > UB:\n",
    "        modified_wages.append(median_wage)\n",
    "    else:\n",
    "        modified_wages.append(wage)\n",
    "\n",
    "# Create a new column in the DataFrame to store the modified wages\n",
    "visa_df['modified_wage'] = modified_wages\n",
    "\n",
    "# Print the DataFrame to check the results\n",
    "print(visa_df[['prevailing_wage', 'modified_wage']])\n",
    "plt.subplot(2,1,1).hist(visa_df['modified_wage'])\n",
    "plt.subplot(2,1,2).boxplot(visa_df['modified_wage'])\n",
    "plt.show()"
   ]
  },
  {
   "cell_type": "code",
   "execution_count": null,
   "id": "67f1b568-d2d4-474a-b9d5-210ffb852c77",
   "metadata": {},
   "outputs": [],
   "source": [
    "**np.where**\n",
    "- np.where will use for binary condition\n",
    "- it has 3 arguments\n",
    "    - condition\n",
    "    - value if condition is True\n"
   ]
  },
  {
   "cell_type": "code",
   "execution_count": 37,
   "id": "65359cb4-12f1-4646-8263-c94ac6a86dce",
   "metadata": {},
   "outputs": [
    {
     "data": {
      "text/html": [
       "<div>\n",
       "<style scoped>\n",
       "    .dataframe tbody tr th:only-of-type {\n",
       "        vertical-align: middle;\n",
       "    }\n",
       "\n",
       "    .dataframe tbody tr th {\n",
       "        vertical-align: top;\n",
       "    }\n",
       "\n",
       "    .dataframe thead th {\n",
       "        text-align: right;\n",
       "    }\n",
       "</style>\n",
       "<table border=\"1\" class=\"dataframe\">\n",
       "  <thead>\n",
       "    <tr style=\"text-align: right;\">\n",
       "      <th></th>\n",
       "      <th>sub</th>\n",
       "      <th>Marks</th>\n",
       "    </tr>\n",
       "  </thead>\n",
       "  <tbody>\n",
       "    <tr>\n",
       "      <th>0</th>\n",
       "      <td>DS</td>\n",
       "      <td>100</td>\n",
       "    </tr>\n",
       "    <tr>\n",
       "      <th>1</th>\n",
       "      <td>ML</td>\n",
       "      <td>150</td>\n",
       "    </tr>\n",
       "    <tr>\n",
       "      <th>2</th>\n",
       "      <td>CS</td>\n",
       "      <td>20</td>\n",
       "    </tr>\n",
       "  </tbody>\n",
       "</table>\n",
       "</div>"
      ],
      "text/plain": [
       "  sub  Marks\n",
       "0  DS    100\n",
       "1  ML    150\n",
       "2  CS     20"
      ]
     },
     "execution_count": 37,
     "metadata": {},
     "output_type": "execute_result"
    }
   ],
   "source": [
    "d={\"sub\":[\"DS\",\"ML\",\"CS\"],\"Marks\":[100,150,20]}\n",
    "data=pd.DataFrame(d)\n",
    "data"
   ]
  },
  {
   "cell_type": "code",
   "execution_count": 38,
   "id": "115d8b08-2868-4795-b720-97d8ba26df54",
   "metadata": {},
   "outputs": [
    {
     "ename": "ValueError",
     "evalue": "operands could not be broadcast together with shapes (3,) () (3,2) ",
     "output_type": "error",
     "traceback": [
      "\u001b[1;31m---------------------------------------------------------------------------\u001b[0m",
      "\u001b[1;31mValueError\u001b[0m                                Traceback (most recent call last)",
      "Cell \u001b[1;32mIn[38], line 2\u001b[0m\n\u001b[0;32m      1\u001b[0m con \u001b[38;5;241m=\u001b[39m data[\u001b[38;5;124m'\u001b[39m\u001b[38;5;124mMarks\u001b[39m\u001b[38;5;124m'\u001b[39m]\u001b[38;5;241m>\u001b[39m\u001b[38;5;241m100\u001b[39m\n\u001b[1;32m----> 2\u001b[0m l\u001b[38;5;241m=\u001b[39mnp\u001b[38;5;241m.\u001b[39mwhere(con,\u001b[38;5;241m1\u001b[39m,data)\n",
      "\u001b[1;31mValueError\u001b[0m: operands could not be broadcast together with shapes (3,) () (3,2) "
     ]
    }
   ],
   "source": [
    "con = data['Marks']>100\n",
    "l=np.where(con,1,data)"
   ]
  },
  {
   "cell_type": "code",
   "execution_count": null,
   "id": "c988e1e3-7aec-436f-b813-932b23b54ee7",
   "metadata": {},
   "outputs": [],
   "source": []
  }
 ],
 "metadata": {
  "kernelspec": {
   "display_name": "Python 3 (ipykernel)",
   "language": "python",
   "name": "python3"
  },
  "language_info": {
   "codemirror_mode": {
    "name": "ipython",
    "version": 3
   },
   "file_extension": ".py",
   "mimetype": "text/x-python",
   "name": "python",
   "nbconvert_exporter": "python",
   "pygments_lexer": "ipython3",
   "version": "3.11.7"
  }
 },
 "nbformat": 4,
 "nbformat_minor": 5
}

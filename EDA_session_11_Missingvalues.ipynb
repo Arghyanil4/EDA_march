{
 "cells": [
  {
   "cell_type": "code",
   "execution_count": 2,
   "id": "36cfcf37-3b5b-490b-9ae5-53c47bee5049",
   "metadata": {},
   "outputs": [],
   "source": [
    "import numpy as np\n",
    "import pandas as pd"
   ]
  },
  {
   "cell_type": "code",
   "execution_count": 10,
   "id": "c8c599ba-f790-46e7-8722-b6c47d94b2c5",
   "metadata": {},
   "outputs": [
    {
     "data": {
      "text/html": [
       "<div>\n",
       "<style scoped>\n",
       "    .dataframe tbody tr th:only-of-type {\n",
       "        vertical-align: middle;\n",
       "    }\n",
       "\n",
       "    .dataframe tbody tr th {\n",
       "        vertical-align: top;\n",
       "    }\n",
       "\n",
       "    .dataframe thead th {\n",
       "        text-align: right;\n",
       "    }\n",
       "</style>\n",
       "<table border=\"1\" class=\"dataframe\">\n",
       "  <thead>\n",
       "    <tr style=\"text-align: right;\">\n",
       "      <th></th>\n",
       "      <th>Names</th>\n",
       "      <th>Age</th>\n",
       "      <th>City</th>\n",
       "    </tr>\n",
       "  </thead>\n",
       "  <tbody>\n",
       "    <tr>\n",
       "      <th>0</th>\n",
       "      <td>Arghyanil</td>\n",
       "      <td>27.0</td>\n",
       "      <td>Hyd</td>\n",
       "    </tr>\n",
       "    <tr>\n",
       "      <th>1</th>\n",
       "      <td>Sangeeta</td>\n",
       "      <td>28.0</td>\n",
       "      <td>Jrd</td>\n",
       "    </tr>\n",
       "    <tr>\n",
       "      <th>2</th>\n",
       "      <td>Rohit</td>\n",
       "      <td>26.0</td>\n",
       "      <td>Ghy</td>\n",
       "    </tr>\n",
       "    <tr>\n",
       "      <th>3</th>\n",
       "      <td>NaN</td>\n",
       "      <td>NaN</td>\n",
       "      <td>Del</td>\n",
       "    </tr>\n",
       "  </tbody>\n",
       "</table>\n",
       "</div>"
      ],
      "text/plain": [
       "       Names   Age City\n",
       "0  Arghyanil  27.0  Hyd\n",
       "1   Sangeeta  28.0  Jrd\n",
       "2      Rohit  26.0  Ghy\n",
       "3        NaN   NaN  Del"
      ]
     },
     "execution_count": 10,
     "metadata": {},
     "output_type": "execute_result"
    }
   ],
   "source": [
    "dict1={'Names':['Arghyanil','Sangeeta','Rohit',np.nan],'Age':[27,28,26,np.nan],'City':['Hyd','Jrd','Ghy','Del']}\n",
    "d1=pd.DataFrame(dict1)\n",
    "d1"
   ]
  },
  {
   "cell_type": "code",
   "execution_count": 4,
   "id": "95e39d09-39e8-4367-bd03-81d36f2bb566",
   "metadata": {},
   "outputs": [
    {
     "data": {
      "text/html": [
       "<div>\n",
       "<style scoped>\n",
       "    .dataframe tbody tr th:only-of-type {\n",
       "        vertical-align: middle;\n",
       "    }\n",
       "\n",
       "    .dataframe tbody tr th {\n",
       "        vertical-align: top;\n",
       "    }\n",
       "\n",
       "    .dataframe thead th {\n",
       "        text-align: right;\n",
       "    }\n",
       "</style>\n",
       "<table border=\"1\" class=\"dataframe\">\n",
       "  <thead>\n",
       "    <tr style=\"text-align: right;\">\n",
       "      <th></th>\n",
       "      <th>Names</th>\n",
       "      <th>Age</th>\n",
       "      <th>City</th>\n",
       "    </tr>\n",
       "  </thead>\n",
       "  <tbody>\n",
       "    <tr>\n",
       "      <th>0</th>\n",
       "      <td>Arghyanil</td>\n",
       "      <td>27.0</td>\n",
       "      <td>Hyd</td>\n",
       "    </tr>\n",
       "    <tr>\n",
       "      <th>1</th>\n",
       "      <td>Sangeeta</td>\n",
       "      <td>28.0</td>\n",
       "      <td>Jrd</td>\n",
       "    </tr>\n",
       "    <tr>\n",
       "      <th>2</th>\n",
       "      <td>Rohit</td>\n",
       "      <td>26.0</td>\n",
       "      <td>Ghy</td>\n",
       "    </tr>\n",
       "    <tr>\n",
       "      <th>3</th>\n",
       "      <td>None</td>\n",
       "      <td>NaN</td>\n",
       "      <td>Del</td>\n",
       "    </tr>\n",
       "  </tbody>\n",
       "</table>\n",
       "</div>"
      ],
      "text/plain": [
       "       Names   Age City\n",
       "0  Arghyanil  27.0  Hyd\n",
       "1   Sangeeta  28.0  Jrd\n",
       "2      Rohit  26.0  Ghy\n",
       "3       None   NaN  Del"
      ]
     },
     "execution_count": 4,
     "metadata": {},
     "output_type": "execute_result"
    }
   ],
   "source": [
    "dict1={'Names':['Arghyanil','Sangeeta','Rohit',None],'Age':[27,28,26,None],'City':['Hyd','Jrd','Ghy','Del']}\n",
    "d1=pd.DataFrame(dict1)\n",
    "d1"
   ]
  },
  {
   "cell_type": "code",
   "execution_count": 6,
   "id": "aaaf2816-c8c2-4225-9780-a9b7d48088e3",
   "metadata": {},
   "outputs": [
    {
     "data": {
      "text/html": [
       "<div>\n",
       "<style scoped>\n",
       "    .dataframe tbody tr th:only-of-type {\n",
       "        vertical-align: middle;\n",
       "    }\n",
       "\n",
       "    .dataframe tbody tr th {\n",
       "        vertical-align: top;\n",
       "    }\n",
       "\n",
       "    .dataframe thead th {\n",
       "        text-align: right;\n",
       "    }\n",
       "</style>\n",
       "<table border=\"1\" class=\"dataframe\">\n",
       "  <thead>\n",
       "    <tr style=\"text-align: right;\">\n",
       "      <th></th>\n",
       "      <th>Names</th>\n",
       "      <th>Age</th>\n",
       "      <th>City</th>\n",
       "    </tr>\n",
       "  </thead>\n",
       "  <tbody>\n",
       "    <tr>\n",
       "      <th>0</th>\n",
       "      <td>False</td>\n",
       "      <td>False</td>\n",
       "      <td>False</td>\n",
       "    </tr>\n",
       "    <tr>\n",
       "      <th>1</th>\n",
       "      <td>False</td>\n",
       "      <td>False</td>\n",
       "      <td>False</td>\n",
       "    </tr>\n",
       "    <tr>\n",
       "      <th>2</th>\n",
       "      <td>False</td>\n",
       "      <td>False</td>\n",
       "      <td>False</td>\n",
       "    </tr>\n",
       "    <tr>\n",
       "      <th>3</th>\n",
       "      <td>True</td>\n",
       "      <td>True</td>\n",
       "      <td>False</td>\n",
       "    </tr>\n",
       "  </tbody>\n",
       "</table>\n",
       "</div>"
      ],
      "text/plain": [
       "   Names    Age   City\n",
       "0  False  False  False\n",
       "1  False  False  False\n",
       "2  False  False  False\n",
       "3   True   True  False"
      ]
     },
     "execution_count": 6,
     "metadata": {},
     "output_type": "execute_result"
    }
   ],
   "source": [
    "d1.isnull()"
   ]
  },
  {
   "cell_type": "code",
   "execution_count": 8,
   "id": "84b1acd1-5f6a-40b9-808c-d6b5fd8f235c",
   "metadata": {},
   "outputs": [
    {
     "data": {
      "text/plain": [
       "Names    1\n",
       "Age      1\n",
       "City     0\n",
       "dtype: int64"
      ]
     },
     "execution_count": 8,
     "metadata": {},
     "output_type": "execute_result"
    }
   ],
   "source": [
    "d1.isnull().sum()"
   ]
  },
  {
   "cell_type": "markdown",
   "id": "d1085e9b-ba18-43f1-8c69-dc8485f7de54",
   "metadata": {},
   "source": [
    "- Generally data has some empty rows\n",
    "- It is a data problem\n",
    "- If you read that kind of data you will see null\n",
    "- You need to understand that the data is corrupted or really a null value is there"
   ]
  },
  {
   "cell_type": "markdown",
   "id": "9d511f83-389a-4f3b-b2ba-aaa6af3c0bec",
   "metadata": {},
   "source": [
    "**Method 1**\n",
    "\n",
    "**Fill with some random value**\n",
    "\n",
    "**Method name**: fill na"
   ]
  },
  {
   "cell_type": "code",
   "execution_count": 11,
   "id": "2cd311c6-9dd7-416b-9b35-23b6c3d357dd",
   "metadata": {},
   "outputs": [
    {
     "data": {
      "text/plain": [
       "Names    25.0\n",
       "Age      25.0\n",
       "City      0.0\n",
       "dtype: float64"
      ]
     },
     "execution_count": 11,
     "metadata": {},
     "output_type": "execute_result"
    }
   ],
   "source": [
    "d1.isnull().sum()*100/len(d1)"
   ]
  },
  {
   "cell_type": "code",
   "execution_count": 12,
   "id": "69448e7c-8bd4-429c-b59a-d41e425c384a",
   "metadata": {},
   "outputs": [
    {
     "data": {
      "text/html": [
       "<div>\n",
       "<style scoped>\n",
       "    .dataframe tbody tr th:only-of-type {\n",
       "        vertical-align: middle;\n",
       "    }\n",
       "\n",
       "    .dataframe tbody tr th {\n",
       "        vertical-align: top;\n",
       "    }\n",
       "\n",
       "    .dataframe thead th {\n",
       "        text-align: right;\n",
       "    }\n",
       "</style>\n",
       "<table border=\"1\" class=\"dataframe\">\n",
       "  <thead>\n",
       "    <tr style=\"text-align: right;\">\n",
       "      <th></th>\n",
       "      <th>Names</th>\n",
       "      <th>Age</th>\n",
       "      <th>City</th>\n",
       "    </tr>\n",
       "  </thead>\n",
       "  <tbody>\n",
       "    <tr>\n",
       "      <th>0</th>\n",
       "      <td>Arghyanil</td>\n",
       "      <td>27.0</td>\n",
       "      <td>Hyd</td>\n",
       "    </tr>\n",
       "    <tr>\n",
       "      <th>1</th>\n",
       "      <td>Sangeeta</td>\n",
       "      <td>28.0</td>\n",
       "      <td>Jrd</td>\n",
       "    </tr>\n",
       "    <tr>\n",
       "      <th>2</th>\n",
       "      <td>Rohit</td>\n",
       "      <td>26.0</td>\n",
       "      <td>Ghy</td>\n",
       "    </tr>\n",
       "    <tr>\n",
       "      <th>3</th>\n",
       "      <td>40</td>\n",
       "      <td>40.0</td>\n",
       "      <td>Del</td>\n",
       "    </tr>\n",
       "  </tbody>\n",
       "</table>\n",
       "</div>"
      ],
      "text/plain": [
       "       Names   Age City\n",
       "0  Arghyanil  27.0  Hyd\n",
       "1   Sangeeta  28.0  Jrd\n",
       "2      Rohit  26.0  Ghy\n",
       "3         40  40.0  Del"
      ]
     },
     "execution_count": 12,
     "metadata": {},
     "output_type": "execute_result"
    }
   ],
   "source": [
    "d1.fillna(40)"
   ]
  },
  {
   "cell_type": "markdown",
   "id": "c2eec079-adad-407a-9e74-233bbdeb728e",
   "metadata": {},
   "source": [
    "**Method-2**\n",
    "\n",
    "**- We can fill the values w.r.t columns also**"
   ]
  },
  {
   "cell_type": "code",
   "execution_count": 5,
   "id": "9ca0996a-2a8c-4c9a-bd68-682f758a4005",
   "metadata": {},
   "outputs": [
    {
     "data": {
      "text/plain": [
       "0    27.0\n",
       "1    28.0\n",
       "2    26.0\n",
       "3    40.0\n",
       "Name: Age, dtype: float64"
      ]
     },
     "execution_count": 5,
     "metadata": {},
     "output_type": "execute_result"
    }
   ],
   "source": [
    "d1['Age'].fillna(40)\n",
    "# it will not update\n",
    "# inplace = False"
   ]
  },
  {
   "cell_type": "code",
   "execution_count": 8,
   "id": "ff23fedd-f324-487a-bb27-3e722ddfe9c3",
   "metadata": {},
   "outputs": [
    {
     "data": {
      "text/html": [
       "<div>\n",
       "<style scoped>\n",
       "    .dataframe tbody tr th:only-of-type {\n",
       "        vertical-align: middle;\n",
       "    }\n",
       "\n",
       "    .dataframe tbody tr th {\n",
       "        vertical-align: top;\n",
       "    }\n",
       "\n",
       "    .dataframe thead th {\n",
       "        text-align: right;\n",
       "    }\n",
       "</style>\n",
       "<table border=\"1\" class=\"dataframe\">\n",
       "  <thead>\n",
       "    <tr style=\"text-align: right;\">\n",
       "      <th></th>\n",
       "      <th>Names</th>\n",
       "      <th>Age</th>\n",
       "      <th>City</th>\n",
       "    </tr>\n",
       "  </thead>\n",
       "  <tbody>\n",
       "    <tr>\n",
       "      <th>0</th>\n",
       "      <td>Arghyanil</td>\n",
       "      <td>27.0</td>\n",
       "      <td>Hyd</td>\n",
       "    </tr>\n",
       "    <tr>\n",
       "      <th>1</th>\n",
       "      <td>Sangeeta</td>\n",
       "      <td>28.0</td>\n",
       "      <td>Jrd</td>\n",
       "    </tr>\n",
       "    <tr>\n",
       "      <th>2</th>\n",
       "      <td>Rohit</td>\n",
       "      <td>26.0</td>\n",
       "      <td>Ghy</td>\n",
       "    </tr>\n",
       "    <tr>\n",
       "      <th>3</th>\n",
       "      <td>None</td>\n",
       "      <td>40.0</td>\n",
       "      <td>Del</td>\n",
       "    </tr>\n",
       "  </tbody>\n",
       "</table>\n",
       "</div>"
      ],
      "text/plain": [
       "       Names   Age City\n",
       "0  Arghyanil  27.0  Hyd\n",
       "1   Sangeeta  28.0  Jrd\n",
       "2      Rohit  26.0  Ghy\n",
       "3       None  40.0  Del"
      ]
     },
     "execution_count": 8,
     "metadata": {},
     "output_type": "execute_result"
    }
   ],
   "source": [
    "d1"
   ]
  },
  {
   "cell_type": "code",
   "execution_count": 7,
   "id": "88471f54-6621-4d55-9b1f-0f1023468fb3",
   "metadata": {},
   "outputs": [],
   "source": [
    "d1['Age'].fillna(40,inplace=True)"
   ]
  },
  {
   "cell_type": "code",
   "execution_count": 9,
   "id": "070cdc5b-df4a-4514-81b5-383d80890e31",
   "metadata": {},
   "outputs": [
    {
     "data": {
      "text/html": [
       "<div>\n",
       "<style scoped>\n",
       "    .dataframe tbody tr th:only-of-type {\n",
       "        vertical-align: middle;\n",
       "    }\n",
       "\n",
       "    .dataframe tbody tr th {\n",
       "        vertical-align: top;\n",
       "    }\n",
       "\n",
       "    .dataframe thead th {\n",
       "        text-align: right;\n",
       "    }\n",
       "</style>\n",
       "<table border=\"1\" class=\"dataframe\">\n",
       "  <thead>\n",
       "    <tr style=\"text-align: right;\">\n",
       "      <th></th>\n",
       "      <th>Names</th>\n",
       "      <th>Age</th>\n",
       "      <th>City</th>\n",
       "    </tr>\n",
       "  </thead>\n",
       "  <tbody>\n",
       "    <tr>\n",
       "      <th>0</th>\n",
       "      <td>Arghyanil</td>\n",
       "      <td>27.0</td>\n",
       "      <td>Hyd</td>\n",
       "    </tr>\n",
       "    <tr>\n",
       "      <th>1</th>\n",
       "      <td>Sangeeta</td>\n",
       "      <td>28.0</td>\n",
       "      <td>Jrd</td>\n",
       "    </tr>\n",
       "    <tr>\n",
       "      <th>2</th>\n",
       "      <td>Rohit</td>\n",
       "      <td>26.0</td>\n",
       "      <td>Ghy</td>\n",
       "    </tr>\n",
       "    <tr>\n",
       "      <th>3</th>\n",
       "      <td>Batman</td>\n",
       "      <td>40.0</td>\n",
       "      <td>Del</td>\n",
       "    </tr>\n",
       "  </tbody>\n",
       "</table>\n",
       "</div>"
      ],
      "text/plain": [
       "       Names   Age City\n",
       "0  Arghyanil  27.0  Hyd\n",
       "1   Sangeeta  28.0  Jrd\n",
       "2      Rohit  26.0  Ghy\n",
       "3     Batman  40.0  Del"
      ]
     },
     "execution_count": 9,
     "metadata": {},
     "output_type": "execute_result"
    }
   ],
   "source": [
    "d1['Names'].fillna('Batman',inplace=True)\n",
    "d1"
   ]
  },
  {
   "cell_type": "markdown",
   "id": "0420db3c-2e03-4704-8c15-62223bf79fce",
   "metadata": {},
   "source": [
    "**Method-3**\n",
    "\n",
    "- bfill\n",
    "- ffill\n",
    "- pad\n",
    "- backfill"
   ]
  },
  {
   "cell_type": "code",
   "execution_count": 11,
   "id": "457df25d-8d4b-45ba-a3e6-bcd40768e9e8",
   "metadata": {},
   "outputs": [
    {
     "name": "stderr",
     "output_type": "stream",
     "text": [
      "C:\\Users\\dasar\\AppData\\Local\\Temp\\ipykernel_11072\\1914124427.py:1: FutureWarning: DataFrame.fillna with 'method' is deprecated and will raise in a future version. Use obj.ffill() or obj.bfill() instead.\n",
      "  d1.fillna(method='bfill')\n"
     ]
    },
    {
     "data": {
      "text/html": [
       "<div>\n",
       "<style scoped>\n",
       "    .dataframe tbody tr th:only-of-type {\n",
       "        vertical-align: middle;\n",
       "    }\n",
       "\n",
       "    .dataframe tbody tr th {\n",
       "        vertical-align: top;\n",
       "    }\n",
       "\n",
       "    .dataframe thead th {\n",
       "        text-align: right;\n",
       "    }\n",
       "</style>\n",
       "<table border=\"1\" class=\"dataframe\">\n",
       "  <thead>\n",
       "    <tr style=\"text-align: right;\">\n",
       "      <th></th>\n",
       "      <th>Names</th>\n",
       "      <th>Age</th>\n",
       "      <th>City</th>\n",
       "    </tr>\n",
       "  </thead>\n",
       "  <tbody>\n",
       "    <tr>\n",
       "      <th>0</th>\n",
       "      <td>Arghyanil</td>\n",
       "      <td>27.0</td>\n",
       "      <td>Hyd</td>\n",
       "    </tr>\n",
       "    <tr>\n",
       "      <th>1</th>\n",
       "      <td>Sangeeta</td>\n",
       "      <td>28.0</td>\n",
       "      <td>Jrd</td>\n",
       "    </tr>\n",
       "    <tr>\n",
       "      <th>2</th>\n",
       "      <td>Rohit</td>\n",
       "      <td>26.0</td>\n",
       "      <td>Ghy</td>\n",
       "    </tr>\n",
       "    <tr>\n",
       "      <th>3</th>\n",
       "      <td>NaN</td>\n",
       "      <td>NaN</td>\n",
       "      <td>Del</td>\n",
       "    </tr>\n",
       "  </tbody>\n",
       "</table>\n",
       "</div>"
      ],
      "text/plain": [
       "       Names   Age City\n",
       "0  Arghyanil  27.0  Hyd\n",
       "1   Sangeeta  28.0  Jrd\n",
       "2      Rohit  26.0  Ghy\n",
       "3        NaN   NaN  Del"
      ]
     },
     "execution_count": 11,
     "metadata": {},
     "output_type": "execute_result"
    }
   ],
   "source": [
    "d1.fillna(method='bfill')\n",
    "# It will fill with below value or next value\n",
    "# Column1: Names index 4 is missing values it is filled with index 3 value\n",
    "# Column2: Age index 4 is missing values it is filled with index 3 value\n",
    "# Column3: City index 4 is missing values it should be fill with next value"
   ]
  },
  {
   "cell_type": "code",
   "execution_count": 15,
   "id": "a2cc8ee5-1b31-45c8-a97f-9218be02ef6c",
   "metadata": {},
   "outputs": [
    {
     "name": "stderr",
     "output_type": "stream",
     "text": [
      "C:\\Users\\dasar\\AppData\\Local\\Temp\\ipykernel_11072\\981496262.py:1: FutureWarning: DataFrame.fillna with 'method' is deprecated and will raise in a future version. Use obj.ffill() or obj.bfill() instead.\n",
      "  d1.fillna(method='bfill',axis=1)\n"
     ]
    },
    {
     "data": {
      "text/html": [
       "<div>\n",
       "<style scoped>\n",
       "    .dataframe tbody tr th:only-of-type {\n",
       "        vertical-align: middle;\n",
       "    }\n",
       "\n",
       "    .dataframe tbody tr th {\n",
       "        vertical-align: top;\n",
       "    }\n",
       "\n",
       "    .dataframe thead th {\n",
       "        text-align: right;\n",
       "    }\n",
       "</style>\n",
       "<table border=\"1\" class=\"dataframe\">\n",
       "  <thead>\n",
       "    <tr style=\"text-align: right;\">\n",
       "      <th></th>\n",
       "      <th>Names</th>\n",
       "      <th>Age</th>\n",
       "      <th>City</th>\n",
       "    </tr>\n",
       "  </thead>\n",
       "  <tbody>\n",
       "    <tr>\n",
       "      <th>0</th>\n",
       "      <td>Arghyanil</td>\n",
       "      <td>27.0</td>\n",
       "      <td>Hyd</td>\n",
       "    </tr>\n",
       "    <tr>\n",
       "      <th>1</th>\n",
       "      <td>Sangeeta</td>\n",
       "      <td>28.0</td>\n",
       "      <td>Jrd</td>\n",
       "    </tr>\n",
       "    <tr>\n",
       "      <th>2</th>\n",
       "      <td>Rohit</td>\n",
       "      <td>26.0</td>\n",
       "      <td>Ghy</td>\n",
       "    </tr>\n",
       "    <tr>\n",
       "      <th>3</th>\n",
       "      <td>Del</td>\n",
       "      <td>Del</td>\n",
       "      <td>Del</td>\n",
       "    </tr>\n",
       "  </tbody>\n",
       "</table>\n",
       "</div>"
      ],
      "text/plain": [
       "       Names   Age City\n",
       "0  Arghyanil  27.0  Hyd\n",
       "1   Sangeeta  28.0  Jrd\n",
       "2      Rohit  26.0  Ghy\n",
       "3        Del   Del  Del"
      ]
     },
     "execution_count": 15,
     "metadata": {},
     "output_type": "execute_result"
    }
   ],
   "source": [
    "d1.fillna(method='bfill',axis=1)\n",
    "# axis=1 means columns\n",
    "# so NAn values fill with next values"
   ]
  },
  {
   "cell_type": "markdown",
   "id": "8c99e60f-f0dc-429d-8880-f861b543089e",
   "metadata": {},
   "source": [
    "- backfill and bfill with Next value\n",
    "- pad and ffill fill with previous value\n",
    "- but it will change based on axis"
   ]
  },
  {
   "cell_type": "code",
   "execution_count": 12,
   "id": "d276c736-206e-4b94-b463-6f810684b4b5",
   "metadata": {},
   "outputs": [
    {
     "name": "stderr",
     "output_type": "stream",
     "text": [
      "C:\\Users\\dasar\\AppData\\Local\\Temp\\ipykernel_11072\\3282249208.py:1: FutureWarning: DataFrame.fillna with 'method' is deprecated and will raise in a future version. Use obj.ffill() or obj.bfill() instead.\n",
      "  d1.fillna(method='pad')\n"
     ]
    },
    {
     "data": {
      "text/html": [
       "<div>\n",
       "<style scoped>\n",
       "    .dataframe tbody tr th:only-of-type {\n",
       "        vertical-align: middle;\n",
       "    }\n",
       "\n",
       "    .dataframe tbody tr th {\n",
       "        vertical-align: top;\n",
       "    }\n",
       "\n",
       "    .dataframe thead th {\n",
       "        text-align: right;\n",
       "    }\n",
       "</style>\n",
       "<table border=\"1\" class=\"dataframe\">\n",
       "  <thead>\n",
       "    <tr style=\"text-align: right;\">\n",
       "      <th></th>\n",
       "      <th>Names</th>\n",
       "      <th>Age</th>\n",
       "      <th>City</th>\n",
       "    </tr>\n",
       "  </thead>\n",
       "  <tbody>\n",
       "    <tr>\n",
       "      <th>0</th>\n",
       "      <td>Arghyanil</td>\n",
       "      <td>27.0</td>\n",
       "      <td>Hyd</td>\n",
       "    </tr>\n",
       "    <tr>\n",
       "      <th>1</th>\n",
       "      <td>Sangeeta</td>\n",
       "      <td>28.0</td>\n",
       "      <td>Jrd</td>\n",
       "    </tr>\n",
       "    <tr>\n",
       "      <th>2</th>\n",
       "      <td>Rohit</td>\n",
       "      <td>26.0</td>\n",
       "      <td>Ghy</td>\n",
       "    </tr>\n",
       "    <tr>\n",
       "      <th>3</th>\n",
       "      <td>Rohit</td>\n",
       "      <td>26.0</td>\n",
       "      <td>Del</td>\n",
       "    </tr>\n",
       "  </tbody>\n",
       "</table>\n",
       "</div>"
      ],
      "text/plain": [
       "       Names   Age City\n",
       "0  Arghyanil  27.0  Hyd\n",
       "1   Sangeeta  28.0  Jrd\n",
       "2      Rohit  26.0  Ghy\n",
       "3      Rohit  26.0  Del"
      ]
     },
     "execution_count": 12,
     "metadata": {},
     "output_type": "execute_result"
    }
   ],
   "source": [
    "d1.fillna(method='pad')"
   ]
  },
  {
   "cell_type": "markdown",
   "id": "f49ceeeb-4b02-468d-a69e-c8ab6c7b57e1",
   "metadata": {},
   "source": [
    "**Mean,Median & Mode**"
   ]
  },
  {
   "cell_type": "markdown",
   "id": "5a58315e-b1d6-48b9-9167-aac5a6ad40c1",
   "metadata": {},
   "source": [
    "**Method-4**\n",
    "- mean\n",
    "    - Numerical values can fill with mean value\n",
    "    - but mean affect by outliers\n",
    "    - if we don't have outliers it is best one\n",
    "- median\n",
    "    - Numerical values can fill with median value\n",
    "    - we know that median value does not affect with outliers\n",
    "    - so if outliers are there we can go with median\n",
    "- mode\n",
    "    - mode is useful for categorical data"
   ]
  },
  {
   "cell_type": "code",
   "execution_count": 16,
   "id": "6306fe62-ab99-444e-a816-e5df00fea956",
   "metadata": {},
   "outputs": [
    {
     "data": {
      "text/html": [
       "<div>\n",
       "<style scoped>\n",
       "    .dataframe tbody tr th:only-of-type {\n",
       "        vertical-align: middle;\n",
       "    }\n",
       "\n",
       "    .dataframe tbody tr th {\n",
       "        vertical-align: top;\n",
       "    }\n",
       "\n",
       "    .dataframe thead th {\n",
       "        text-align: right;\n",
       "    }\n",
       "</style>\n",
       "<table border=\"1\" class=\"dataframe\">\n",
       "  <thead>\n",
       "    <tr style=\"text-align: right;\">\n",
       "      <th></th>\n",
       "      <th>Names</th>\n",
       "      <th>Age</th>\n",
       "      <th>City</th>\n",
       "    </tr>\n",
       "  </thead>\n",
       "  <tbody>\n",
       "    <tr>\n",
       "      <th>0</th>\n",
       "      <td>Arghyanil</td>\n",
       "      <td>27.0</td>\n",
       "      <td>Hyd</td>\n",
       "    </tr>\n",
       "    <tr>\n",
       "      <th>1</th>\n",
       "      <td>Sangeeta</td>\n",
       "      <td>28.0</td>\n",
       "      <td>Jrd</td>\n",
       "    </tr>\n",
       "    <tr>\n",
       "      <th>2</th>\n",
       "      <td>Rohit</td>\n",
       "      <td>26.0</td>\n",
       "      <td>Ghy</td>\n",
       "    </tr>\n",
       "    <tr>\n",
       "      <th>3</th>\n",
       "      <td>NaN</td>\n",
       "      <td>NaN</td>\n",
       "      <td>Del</td>\n",
       "    </tr>\n",
       "  </tbody>\n",
       "</table>\n",
       "</div>"
      ],
      "text/plain": [
       "       Names   Age City\n",
       "0  Arghyanil  27.0  Hyd\n",
       "1   Sangeeta  28.0  Jrd\n",
       "2      Rohit  26.0  Ghy\n",
       "3        NaN   NaN  Del"
      ]
     },
     "execution_count": 16,
     "metadata": {},
     "output_type": "execute_result"
    }
   ],
   "source": [
    "dict1={'Names':['Arghyanil','Sangeeta','Rohit',np.nan],'Age':[27,28,26,np.nan],'City':['Hyd','Jrd','Ghy','Del']}\n",
    "d1=pd.DataFrame(dict1)\n",
    "d1"
   ]
  },
  {
   "cell_type": "code",
   "execution_count": 17,
   "id": "2fa6c542-5e32-48e2-ab40-53c82a2e5648",
   "metadata": {},
   "outputs": [
    {
     "data": {
      "text/plain": [
       "0    27.0\n",
       "1    28.0\n",
       "2    26.0\n",
       "3    27.0\n",
       "Name: Age, dtype: float64"
      ]
     },
     "execution_count": 17,
     "metadata": {},
     "output_type": "execute_result"
    }
   ],
   "source": [
    "# We already know we can fill with some values based on specific column using fillna\n",
    "# d1.fillna(<random_number>)\n",
    "# d1 represents all the columns\n",
    "age_mean=d1['Age'].mean()\n",
    "d1['Age'].fillna(age_mean)"
   ]
  },
  {
   "cell_type": "code",
   "execution_count": 18,
   "id": "b661c869-8166-4bc6-8743-7ef8ce36b7cc",
   "metadata": {},
   "outputs": [
    {
     "data": {
      "text/plain": [
       "0    27.0\n",
       "1    28.0\n",
       "2    26.0\n",
       "3    27.0\n",
       "Name: Age, dtype: float64"
      ]
     },
     "execution_count": 18,
     "metadata": {},
     "output_type": "execute_result"
    }
   ],
   "source": [
    "age_median=d1['Age'].median()\n",
    "d1['Age'].fillna(age_median)"
   ]
  },
  {
   "cell_type": "code",
   "execution_count": 19,
   "id": "a7ae1ab0-47b5-439c-859d-c5bb6c6b4c0d",
   "metadata": {},
   "outputs": [
    {
     "data": {
      "text/plain": [
       "0    27.0\n",
       "1    28.0\n",
       "2    26.0\n",
       "3     NaN\n",
       "Name: Age, dtype: float64"
      ]
     },
     "execution_count": 19,
     "metadata": {},
     "output_type": "execute_result"
    }
   ],
   "source": [
    "age_mode=d1['Age'].mode()\n",
    "d1['Age'].fillna(age_mode)"
   ]
  },
  {
   "cell_type": "code",
   "execution_count": 20,
   "id": "b9962315-e983-4c66-ab08-cee761a25e76",
   "metadata": {},
   "outputs": [
    {
     "data": {
      "text/plain": [
       "0    Del\n",
       "1    Ghy\n",
       "2    Hyd\n",
       "3    Jrd\n",
       "Name: City, dtype: object"
      ]
     },
     "execution_count": 20,
     "metadata": {},
     "output_type": "execute_result"
    }
   ],
   "source": [
    "d1['City'].mode()\n",
    "# In this use case we are getting mode equal\n",
    "# But in real time we will get clear mode value"
   ]
  },
  {
   "cell_type": "markdown",
   "id": "a8d99b45-2049-4a28-a315-c8ae58c54d0d",
   "metadata": {},
   "source": [
    "- Fill with Random value\n",
    "- Fill with random value on specific value\n",
    "- Fill with methods\n",
    "    - bfill\n",
    "    - ffill\n",
    "    - pad\n",
    "    - backfill\n",
    "- Fill with\n",
    "    -mean\n",
    "    -median\n",
    "    -mode"
   ]
  },
  {
   "cell_type": "markdown",
   "id": "f94535ab-cad6-403d-a7ad-d656fa439c2e",
   "metadata": {},
   "source": [
    "**Method-5**\n",
    "\n",
    "**KNN imputer**\n",
    "\n",
    "- KNN: K nearest Neighbours\n",
    "- K is a hyper parameter means user can choose\n",
    "- It is a distance metric: **Euclidean distance**\n",
    "- KNN imputer will take the mean of the neighbour value\n",
    "- The neighbours value can provided by using value =k\n",
    "- It's under Sklearn package\n",
    "- Under Sklearn we have Imputer method\n",
    "- Under imputer method we have Knn Imputer\n",
    "- Applicable only for numerical data\n",
    "\n",
    "<img id=\"dimg_317\" src=\"data:image/png;base64,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\" class=\"YQ4gaf\" height=\"203\" style=\"object-position:41% 16%\" width=\"248\" alt=\"Distance Measures in Machine Learning ...\" data-csiid=\"30\" data-atf=\"4\">"
   ]
  },
  {
   "cell_type": "code",
   "execution_count": 21,
   "id": "d9d30b9a-d6a4-47bc-83c0-8704770931a7",
   "metadata": {},
   "outputs": [
    {
     "data": {
      "text/plain": [
       "array([[27.],\n",
       "       [28.],\n",
       "       [26.],\n",
       "       [27.]])"
      ]
     },
     "execution_count": 21,
     "metadata": {},
     "output_type": "execute_result"
    }
   ],
   "source": [
    "from sklearn.impute import KNNImputer\n",
    "KI=KNNImputer()\n",
    "KI.fit_transform(d1[['Age']])"
   ]
  },
  {
   "cell_type": "code",
   "execution_count": null,
   "id": "ebf7b69f-b7e7-4ff2-a659-633cc5a6a04e",
   "metadata": {},
   "outputs": [],
   "source": []
  }
 ],
 "metadata": {
  "kernelspec": {
   "display_name": "Python 3 (ipykernel)",
   "language": "python",
   "name": "python3"
  },
  "language_info": {
   "codemirror_mode": {
    "name": "ipython",
    "version": 3
   },
   "file_extension": ".py",
   "mimetype": "text/x-python",
   "name": "python",
   "nbconvert_exporter": "python",
   "pygments_lexer": "ipython3",
   "version": "3.11.7"
  }
 },
 "nbformat": 4,
 "nbformat_minor": 5
}
